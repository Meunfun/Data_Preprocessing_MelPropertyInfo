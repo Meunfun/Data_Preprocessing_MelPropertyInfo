{
 "cells": [
  {
   "cell_type": "code",
   "execution_count": 78,
   "id": "f5d8b909",
   "metadata": {},
   "outputs": [],
   "source": [
    "import geopandas as gpd\n",
    "import pandas as pd"
   ]
  },
  {
   "cell_type": "markdown",
   "id": "77e85cce",
   "metadata": {},
   "source": [
    "# Extract data from files"
   ]
  },
  {
   "cell_type": "code",
   "execution_count": 64,
   "id": "d3891735",
   "metadata": {},
   "outputs": [],
   "source": [
    "jpath = 'data/house1.json' # path for json file\n",
    "xpath = 'data/house2.xml' # path for xml file"
   ]
  },
  {
   "cell_type": "markdown",
   "id": "2c4c448f",
   "metadata": {},
   "source": [
    "## JSON DATA"
   ]
  },
  {
   "cell_type": "code",
   "execution_count": 66,
   "id": "a382f50d",
   "metadata": {},
   "outputs": [
    {
     "data": {
      "text/html": [
       "<div>\n",
       "<style scoped>\n",
       "    .dataframe tbody tr th:only-of-type {\n",
       "        vertical-align: middle;\n",
       "    }\n",
       "\n",
       "    .dataframe tbody tr th {\n",
       "        vertical-align: top;\n",
       "    }\n",
       "\n",
       "    .dataframe thead th {\n",
       "        text-align: right;\n",
       "    }\n",
       "</style>\n",
       "<table border=\"1\" class=\"dataframe\">\n",
       "  <thead>\n",
       "    <tr style=\"text-align: right;\">\n",
       "      <th></th>\n",
       "      <th>property_id</th>\n",
       "      <th>lat</th>\n",
       "      <th>lng</th>\n",
       "      <th>addr_street</th>\n",
       "    </tr>\n",
       "  </thead>\n",
       "  <tbody>\n",
       "    <tr>\n",
       "      <th>0</th>\n",
       "      <td>29654</td>\n",
       "      <td>-37.783257</td>\n",
       "      <td>145.000198</td>\n",
       "      <td>2 Short Street</td>\n",
       "    </tr>\n",
       "    <tr>\n",
       "      <th>1</th>\n",
       "      <td>84314</td>\n",
       "      <td>-37.851406</td>\n",
       "      <td>145.003433</td>\n",
       "      <td>7 Pridham Street</td>\n",
       "    </tr>\n",
       "  </tbody>\n",
       "</table>\n",
       "</div>"
      ],
      "text/plain": [
       "   property_id        lat         lng       addr_street\n",
       "0        29654 -37.783257  145.000198    2 Short Street\n",
       "1        84314 -37.851406  145.003433  7 Pridham Street"
      ]
     },
     "execution_count": 66,
     "metadata": {},
     "output_type": "execute_result"
    }
   ],
   "source": [
    "j = pd.read_json(jpath) # use read json to parse json file\n",
    "j.head(2)"
   ]
  },
  {
   "cell_type": "markdown",
   "id": "f621889f",
   "metadata": {},
   "source": [
    "## XML DATA"
   ]
  },
  {
   "cell_type": "code",
   "execution_count": 67,
   "id": "25e7eb84",
   "metadata": {},
   "outputs": [
    {
     "ename": "XMLSyntaxError",
     "evalue": "Start tag expected, '<' not found, line 1, column 1 (<string>, line 1)",
     "output_type": "error",
     "traceback": [
      "Traceback \u001b[0;36m(most recent call last)\u001b[0m:\n",
      "  File \u001b[1;32m\"/Users/meunfunthanaprariwatkul/opt/anaconda3/lib/python3.9/site-packages/IPython/core/interactiveshell.py\"\u001b[0m, line \u001b[1;32m3457\u001b[0m, in \u001b[1;35mrun_code\u001b[0m\n    exec(code_obj, self.user_global_ns, self.user_ns)\n",
      "  File \u001b[1;32m\"/var/folders/hn/mgkfr3qd4652k_9wn776wn4m0000gn/T/ipykernel_14480/1226619532.py\"\u001b[0m, line \u001b[1;32m1\u001b[0m, in \u001b[1;35m<module>\u001b[0m\n    x = pd.read_xml('xpath')\n",
      "  File \u001b[1;32m\"/Users/meunfunthanaprariwatkul/opt/anaconda3/lib/python3.9/site-packages/pandas/util/_decorators.py\"\u001b[0m, line \u001b[1;32m311\u001b[0m, in \u001b[1;35mwrapper\u001b[0m\n    return func(*args, **kwargs)\n",
      "  File \u001b[1;32m\"/Users/meunfunthanaprariwatkul/opt/anaconda3/lib/python3.9/site-packages/pandas/io/xml.py\"\u001b[0m, line \u001b[1;32m938\u001b[0m, in \u001b[1;35mread_xml\u001b[0m\n    return _parse(\n",
      "  File \u001b[1;32m\"/Users/meunfunthanaprariwatkul/opt/anaconda3/lib/python3.9/site-packages/pandas/io/xml.py\"\u001b[0m, line \u001b[1;32m733\u001b[0m, in \u001b[1;35m_parse\u001b[0m\n    data_dicts = p.parse_data()\n",
      "  File \u001b[1;32m\"/Users/meunfunthanaprariwatkul/opt/anaconda3/lib/python3.9/site-packages/pandas/io/xml.py\"\u001b[0m, line \u001b[1;32m389\u001b[0m, in \u001b[1;35mparse_data\u001b[0m\n    self.xml_doc = XML(self._parse_doc(self.path_or_buffer))\n",
      "  File \u001b[1;32m\"/Users/meunfunthanaprariwatkul/opt/anaconda3/lib/python3.9/site-packages/pandas/io/xml.py\"\u001b[0m, line \u001b[1;32m554\u001b[0m, in \u001b[1;35m_parse_doc\u001b[0m\n    doc = fromstring(\n",
      "  File \u001b[1;32m\"src/lxml/etree.pyx\"\u001b[0m, line \u001b[1;32m3254\u001b[0m, in \u001b[1;35mlxml.etree.fromstring\u001b[0m\n",
      "  File \u001b[1;32m\"src/lxml/parser.pxi\"\u001b[0m, line \u001b[1;32m1913\u001b[0m, in \u001b[1;35mlxml.etree._parseMemoryDocument\u001b[0m\n",
      "  File \u001b[1;32m\"src/lxml/parser.pxi\"\u001b[0m, line \u001b[1;32m1800\u001b[0m, in \u001b[1;35mlxml.etree._parseDoc\u001b[0m\n",
      "  File \u001b[1;32m\"src/lxml/parser.pxi\"\u001b[0m, line \u001b[1;32m1141\u001b[0m, in \u001b[1;35mlxml.etree._BaseParser._parseDoc\u001b[0m\n",
      "  File \u001b[1;32m\"src/lxml/parser.pxi\"\u001b[0m, line \u001b[1;32m615\u001b[0m, in \u001b[1;35mlxml.etree._ParserContext._handleParseResultDoc\u001b[0m\n",
      "  File \u001b[1;32m\"src/lxml/parser.pxi\"\u001b[0m, line \u001b[1;32m725\u001b[0m, in \u001b[1;35mlxml.etree._handleParseResult\u001b[0m\n",
      "\u001b[0;36m  File \u001b[0;32m\"src/lxml/parser.pxi\"\u001b[0;36m, line \u001b[0;32m654\u001b[0;36m, in \u001b[0;35mlxml.etree._raiseParseError\u001b[0;36m\u001b[0m\n",
      "\u001b[0;36m  File \u001b[0;32m\"<string>\"\u001b[0;36m, line \u001b[0;32m1\u001b[0m\n\u001b[0;31mXMLSyntaxError\u001b[0m\u001b[0;31m:\u001b[0m Start tag expected, '<' not found, line 1, column 1\n"
     ]
    }
   ],
   "source": [
    "x = pd.read_xml('xpath')"
   ]
  },
  {
   "cell_type": "markdown",
   "id": "1f4ba5f9",
   "metadata": {},
   "source": [
    "### Fix XML File"
   ]
  },
  {
   "cell_type": "markdown",
   "id": "825048b0",
   "metadata": {},
   "source": [
    "Syntax error : Start tag expected, '<' not found, line 1, column 1\n",
    "so need to look in the file for xml format"
   ]
  },
  {
   "cell_type": "code",
   "execution_count": null,
   "id": "22229afb",
   "metadata": {},
   "outputs": [
    {
     "name": "stdout",
     "output_type": "stream",
     "text": [
      "<property>\n",
      "  <property_id>53857</property_id>\n",
      "  <lat>-37.83034134</lat>\n",
      "  <lng>144.9947815</lng>\n",
      "  <addr_street>86 Balmain Street</addr_street>\n",
      "</property>\n",
      "<property>\n",
      "  <property_id>68409</property_id>\n",
      "  <lat>-37.856339</lat>\n",
      "  <lng>145.02240700000004</lng>\n",
      "  <addr_street>25 Clarendon Street</addr_s t>-37.741972</lat>\n",
      "  <lng>145.018771</lng>\n",
      "  <addr_street>126 Gower Street</addr_street>\n",
      "</property>\n"
     ]
    }
   ],
   "source": [
    "with open(xpath,'r') as xfile:\n",
    "    x = xfile.read()  # all xml\n",
    "print(x[0:300],\n",
    "x[-100:]) "
   ]
  },
  {
   "cell_type": "markdown",
   "id": "d8296375",
   "metadata": {},
   "source": [
    "Do not have wrapper "
   ]
  },
  {
   "cell_type": "code",
   "execution_count": null,
   "id": "90719e75",
   "metadata": {},
   "outputs": [],
   "source": [
    "x = \"<property_list>\" + x + \"</property_list>\"  # add wrapper"
   ]
  },
  {
   "cell_type": "code",
   "execution_count": 79,
   "id": "9f6dcf96",
   "metadata": {},
   "outputs": [
    {
     "name": "stdout",
     "output_type": "stream",
     "text": [
      "<property_list><property>\n",
      "  <property_id>53857</property_id>\n",
      "  <lat>-37.83034134</lat>\n",
      "  <lng>144.9947815</lng>\n",
      "  <addr_street>86 Balmain Street</addr_street>\n",
      "</property>\n",
      "<property>\n",
      "  <property_id>68409</property_id>\n",
      "  <lat>-37.856339</lat>\n",
      "  <lng>145.02240700000004</lng>\n",
      "  <addr_street>25 Clarendon 2265</property_id>\n",
      "  <lat>-37.983546000000004</lat>\n",
      "  <lng>145.055963</lng>\n",
      "  <addr_street>39 Mundy Street</addr_street>\n",
      "</property>\n",
      "<property>\n",
      "  <property_id>31804</property_id>\n",
      "  <lat>-37.741972</lat>\n",
      "  <lng>145.018771</lng>\n",
      "  <addr_street>126 Gower Street</addr_street>\n",
      "</property></property_list>\n"
     ]
    }
   ],
   "source": [
    "print(x[0:300],\n",
    "x[-300:])"
   ]
  },
  {
   "cell_type": "code",
   "execution_count": 71,
   "id": "8d834855",
   "metadata": {},
   "outputs": [
    {
     "ename": "XMLSyntaxError",
     "evalue": "xmlParseEntityRef: no name, line 3107, column 18 (<string>, line 3107)",
     "output_type": "error",
     "traceback": [
      "Traceback \u001b[0;36m(most recent call last)\u001b[0m:\n",
      "  File \u001b[1;32m\"/Users/meunfunthanaprariwatkul/opt/anaconda3/lib/python3.9/site-packages/IPython/core/interactiveshell.py\"\u001b[0m, line \u001b[1;32m3457\u001b[0m, in \u001b[1;35mrun_code\u001b[0m\n    exec(code_obj, self.user_global_ns, self.user_ns)\n",
      "  File \u001b[1;32m\"/var/folders/hn/mgkfr3qd4652k_9wn776wn4m0000gn/T/ipykernel_14480/3219649211.py\"\u001b[0m, line \u001b[1;32m1\u001b[0m, in \u001b[1;35m<module>\u001b[0m\n    x = pd.read_xml(x)\n",
      "  File \u001b[1;32m\"/Users/meunfunthanaprariwatkul/opt/anaconda3/lib/python3.9/site-packages/pandas/util/_decorators.py\"\u001b[0m, line \u001b[1;32m311\u001b[0m, in \u001b[1;35mwrapper\u001b[0m\n    return func(*args, **kwargs)\n",
      "  File \u001b[1;32m\"/Users/meunfunthanaprariwatkul/opt/anaconda3/lib/python3.9/site-packages/pandas/io/xml.py\"\u001b[0m, line \u001b[1;32m938\u001b[0m, in \u001b[1;35mread_xml\u001b[0m\n    return _parse(\n",
      "  File \u001b[1;32m\"/Users/meunfunthanaprariwatkul/opt/anaconda3/lib/python3.9/site-packages/pandas/io/xml.py\"\u001b[0m, line \u001b[1;32m733\u001b[0m, in \u001b[1;35m_parse\u001b[0m\n    data_dicts = p.parse_data()\n",
      "  File \u001b[1;32m\"/Users/meunfunthanaprariwatkul/opt/anaconda3/lib/python3.9/site-packages/pandas/io/xml.py\"\u001b[0m, line \u001b[1;32m389\u001b[0m, in \u001b[1;35mparse_data\u001b[0m\n    self.xml_doc = XML(self._parse_doc(self.path_or_buffer))\n",
      "  File \u001b[1;32m\"/Users/meunfunthanaprariwatkul/opt/anaconda3/lib/python3.9/site-packages/pandas/io/xml.py\"\u001b[0m, line \u001b[1;32m554\u001b[0m, in \u001b[1;35m_parse_doc\u001b[0m\n    doc = fromstring(\n",
      "  File \u001b[1;32m\"src/lxml/etree.pyx\"\u001b[0m, line \u001b[1;32m3254\u001b[0m, in \u001b[1;35mlxml.etree.fromstring\u001b[0m\n",
      "  File \u001b[1;32m\"src/lxml/parser.pxi\"\u001b[0m, line \u001b[1;32m1913\u001b[0m, in \u001b[1;35mlxml.etree._parseMemoryDocument\u001b[0m\n",
      "  File \u001b[1;32m\"src/lxml/parser.pxi\"\u001b[0m, line \u001b[1;32m1800\u001b[0m, in \u001b[1;35mlxml.etree._parseDoc\u001b[0m\n",
      "  File \u001b[1;32m\"src/lxml/parser.pxi\"\u001b[0m, line \u001b[1;32m1141\u001b[0m, in \u001b[1;35mlxml.etree._BaseParser._parseDoc\u001b[0m\n",
      "  File \u001b[1;32m\"src/lxml/parser.pxi\"\u001b[0m, line \u001b[1;32m615\u001b[0m, in \u001b[1;35mlxml.etree._ParserContext._handleParseResultDoc\u001b[0m\n",
      "  File \u001b[1;32m\"src/lxml/parser.pxi\"\u001b[0m, line \u001b[1;32m725\u001b[0m, in \u001b[1;35mlxml.etree._handleParseResult\u001b[0m\n",
      "\u001b[0;36m  File \u001b[0;32m\"src/lxml/parser.pxi\"\u001b[0;36m, line \u001b[0;32m654\u001b[0;36m, in \u001b[0;35mlxml.etree._raiseParseError\u001b[0;36m\u001b[0m\n",
      "\u001b[0;36m  File \u001b[0;32m\"<string>\"\u001b[0;36m, line \u001b[0;32m3107\u001b[0m\n\u001b[0;31mXMLSyntaxError\u001b[0m\u001b[0;31m:\u001b[0m xmlParseEntityRef: no name, line 3107, column 18\n"
     ]
    }
   ],
   "source": [
    "x = pd.read_xml(x)"
   ]
  },
  {
   "cell_type": "markdown",
   "id": "bbb3e7f1",
   "metadata": {},
   "source": [
    "\n",
    "Found syntax error: XMLSyntaxError: xmlParseEntityRef: no name, line 3107, column 18\n",
    "Check line 3107 (index 3106)\n"
   ]
  },
  {
   "cell_type": "code",
   "execution_count": 72,
   "id": "cf87c693",
   "metadata": {},
   "outputs": [],
   "source": [
    "with open(xpath, \"r\") as xl: # open the file again\n",
    "    alllines = xl.readlines() # use realines to make each line into element of list\n"
   ]
  },
  {
   "cell_type": "code",
   "execution_count": 73,
   "id": "04d4c478",
   "metadata": {},
   "outputs": [
    {
     "data": {
      "text/plain": [
       "'  <addr_street>2&3/17-19 Browning Street</addr_street>\\n'"
      ]
     },
     "execution_count": 73,
     "metadata": {},
     "output_type": "execute_result"
    }
   ],
   "source": [
    "alllines[3106]"
   ]
  },
  {
   "cell_type": "markdown",
   "id": "00f8f897",
   "metadata": {},
   "source": [
    "< and & are strictly illegal in XML need to change to pre-defined entity\n",
    "There are 5 pre-defined entity references in XML:\n",
    "\n",
    "&lt;\t<\tless than\n",
    "&gt;\t>\tgreater than\n",
    "&amp;\t&\tampersand \n",
    "&apos;\t'\tapostrophe\n",
    "&quot;\t\"\tquotation mark\n",
    "\n",
    "# ref : https://www.w3schools.com/xml/xml_syntax.asp"
   ]
  },
  {
   "cell_type": "code",
   "execution_count": 76,
   "id": "33da27b5",
   "metadata": {},
   "outputs": [],
   "source": [
    "x = x.replace(\"&\",\"&amp\")"
   ]
  },
  {
   "cell_type": "code",
   "execution_count": 77,
   "id": "c89497cf",
   "metadata": {},
   "outputs": [
    {
     "ename": "XMLSyntaxError",
     "evalue": "EntityRef: expecting ';', line 3107, column 22 (<string>, line 3107)",
     "output_type": "error",
     "traceback": [
      "Traceback \u001b[0;36m(most recent call last)\u001b[0m:\n",
      "  File \u001b[1;32m\"/Users/meunfunthanaprariwatkul/opt/anaconda3/lib/python3.9/site-packages/IPython/core/interactiveshell.py\"\u001b[0m, line \u001b[1;32m3457\u001b[0m, in \u001b[1;35mrun_code\u001b[0m\n    exec(code_obj, self.user_global_ns, self.user_ns)\n",
      "  File \u001b[1;32m\"/var/folders/hn/mgkfr3qd4652k_9wn776wn4m0000gn/T/ipykernel_14480/3219649211.py\"\u001b[0m, line \u001b[1;32m1\u001b[0m, in \u001b[1;35m<module>\u001b[0m\n    x = pd.read_xml(x)\n",
      "  File \u001b[1;32m\"/Users/meunfunthanaprariwatkul/opt/anaconda3/lib/python3.9/site-packages/pandas/util/_decorators.py\"\u001b[0m, line \u001b[1;32m311\u001b[0m, in \u001b[1;35mwrapper\u001b[0m\n    return func(*args, **kwargs)\n",
      "  File \u001b[1;32m\"/Users/meunfunthanaprariwatkul/opt/anaconda3/lib/python3.9/site-packages/pandas/io/xml.py\"\u001b[0m, line \u001b[1;32m938\u001b[0m, in \u001b[1;35mread_xml\u001b[0m\n    return _parse(\n",
      "  File \u001b[1;32m\"/Users/meunfunthanaprariwatkul/opt/anaconda3/lib/python3.9/site-packages/pandas/io/xml.py\"\u001b[0m, line \u001b[1;32m733\u001b[0m, in \u001b[1;35m_parse\u001b[0m\n    data_dicts = p.parse_data()\n",
      "  File \u001b[1;32m\"/Users/meunfunthanaprariwatkul/opt/anaconda3/lib/python3.9/site-packages/pandas/io/xml.py\"\u001b[0m, line \u001b[1;32m389\u001b[0m, in \u001b[1;35mparse_data\u001b[0m\n    self.xml_doc = XML(self._parse_doc(self.path_or_buffer))\n",
      "  File \u001b[1;32m\"/Users/meunfunthanaprariwatkul/opt/anaconda3/lib/python3.9/site-packages/pandas/io/xml.py\"\u001b[0m, line \u001b[1;32m554\u001b[0m, in \u001b[1;35m_parse_doc\u001b[0m\n    doc = fromstring(\n",
      "  File \u001b[1;32m\"src/lxml/etree.pyx\"\u001b[0m, line \u001b[1;32m3254\u001b[0m, in \u001b[1;35mlxml.etree.fromstring\u001b[0m\n",
      "  File \u001b[1;32m\"src/lxml/parser.pxi\"\u001b[0m, line \u001b[1;32m1913\u001b[0m, in \u001b[1;35mlxml.etree._parseMemoryDocument\u001b[0m\n",
      "  File \u001b[1;32m\"src/lxml/parser.pxi\"\u001b[0m, line \u001b[1;32m1800\u001b[0m, in \u001b[1;35mlxml.etree._parseDoc\u001b[0m\n",
      "  File \u001b[1;32m\"src/lxml/parser.pxi\"\u001b[0m, line \u001b[1;32m1141\u001b[0m, in \u001b[1;35mlxml.etree._BaseParser._parseDoc\u001b[0m\n",
      "  File \u001b[1;32m\"src/lxml/parser.pxi\"\u001b[0m, line \u001b[1;32m615\u001b[0m, in \u001b[1;35mlxml.etree._ParserContext._handleParseResultDoc\u001b[0m\n",
      "  File \u001b[1;32m\"src/lxml/parser.pxi\"\u001b[0m, line \u001b[1;32m725\u001b[0m, in \u001b[1;35mlxml.etree._handleParseResult\u001b[0m\n",
      "\u001b[0;36m  File \u001b[0;32m\"src/lxml/parser.pxi\"\u001b[0;36m, line \u001b[0;32m654\u001b[0;36m, in \u001b[0;35mlxml.etree._raiseParseError\u001b[0;36m\u001b[0m\n",
      "\u001b[0;36m  File \u001b[0;32m\"<string>\"\u001b[0;36m, line \u001b[0;32m3107\u001b[0m\n\u001b[0;31mXMLSyntaxError\u001b[0m\u001b[0;31m:\u001b[0m EntityRef: expecting ';', line 3107, column 22\n"
     ]
    }
   ],
   "source": [
    "x = pd.read_xml(x)"
   ]
  },
  {
   "cell_type": "code",
   "execution_count": null,
   "id": "3c930116",
   "metadata": {},
   "outputs": [],
   "source": []
  },
  {
   "cell_type": "code",
   "execution_count": null,
   "id": "3d75a388",
   "metadata": {},
   "outputs": [],
   "source": []
  },
  {
   "cell_type": "code",
   "execution_count": null,
   "id": "f4de895e",
   "metadata": {},
   "outputs": [],
   "source": []
  },
  {
   "cell_type": "code",
   "execution_count": null,
   "id": "f57006d1",
   "metadata": {},
   "outputs": [],
   "source": []
  },
  {
   "cell_type": "code",
   "execution_count": null,
   "id": "bf6f99f9",
   "metadata": {},
   "outputs": [],
   "source": []
  },
  {
   "cell_type": "code",
   "execution_count": null,
   "id": "213ce66b",
   "metadata": {},
   "outputs": [],
   "source": []
  },
  {
   "cell_type": "code",
   "execution_count": null,
   "id": "b1ddbcbe",
   "metadata": {},
   "outputs": [],
   "source": []
  },
  {
   "cell_type": "code",
   "execution_count": null,
   "id": "442d3a23",
   "metadata": {},
   "outputs": [],
   "source": []
  },
  {
   "cell_type": "code",
   "execution_count": null,
   "id": "8059279e",
   "metadata": {},
   "outputs": [],
   "source": []
  },
  {
   "cell_type": "code",
   "execution_count": null,
   "id": "df36c61c",
   "metadata": {},
   "outputs": [],
   "source": []
  },
  {
   "cell_type": "code",
   "execution_count": null,
   "id": "92cb1bbd",
   "metadata": {},
   "outputs": [],
   "source": []
  },
  {
   "cell_type": "code",
   "execution_count": null,
   "id": "42a3ffb4",
   "metadata": {},
   "outputs": [],
   "source": []
  },
  {
   "cell_type": "code",
   "execution_count": null,
   "id": "a6264c6a",
   "metadata": {},
   "outputs": [],
   "source": []
  },
  {
   "cell_type": "code",
   "execution_count": null,
   "id": "e7b56530",
   "metadata": {},
   "outputs": [],
   "source": []
  },
  {
   "cell_type": "code",
   "execution_count": null,
   "id": "611e9248",
   "metadata": {},
   "outputs": [],
   "source": []
  },
  {
   "cell_type": "code",
   "execution_count": null,
   "id": "beff14e5",
   "metadata": {},
   "outputs": [],
   "source": []
  },
  {
   "cell_type": "code",
   "execution_count": null,
   "id": "d7ea905e",
   "metadata": {},
   "outputs": [],
   "source": []
  },
  {
   "cell_type": "code",
   "execution_count": null,
   "id": "0e229129",
   "metadata": {},
   "outputs": [],
   "source": []
  },
  {
   "cell_type": "code",
   "execution_count": null,
   "id": "70a9429c",
   "metadata": {},
   "outputs": [],
   "source": []
  },
  {
   "cell_type": "code",
   "execution_count": null,
   "id": "480219c7",
   "metadata": {},
   "outputs": [],
   "source": []
  },
  {
   "cell_type": "code",
   "execution_count": null,
   "id": "7e6f2642",
   "metadata": {},
   "outputs": [],
   "source": []
  },
  {
   "cell_type": "code",
   "execution_count": null,
   "id": "2596c250",
   "metadata": {},
   "outputs": [],
   "source": []
  },
  {
   "cell_type": "code",
   "execution_count": null,
   "id": "22251b86",
   "metadata": {},
   "outputs": [],
   "source": []
  },
  {
   "cell_type": "code",
   "execution_count": null,
   "id": "cfdd0e7f",
   "metadata": {},
   "outputs": [],
   "source": []
  },
  {
   "cell_type": "code",
   "execution_count": null,
   "id": "cc46fecd",
   "metadata": {},
   "outputs": [],
   "source": []
  },
  {
   "cell_type": "code",
   "execution_count": null,
   "id": "a0afc9a3",
   "metadata": {},
   "outputs": [],
   "source": []
  }
 ],
 "metadata": {
  "kernelspec": {
   "display_name": "base",
   "language": "python",
   "name": "python3"
  },
  "language_info": {
   "codemirror_mode": {
    "name": "ipython",
    "version": 3
   },
   "file_extension": ".py",
   "mimetype": "text/x-python",
   "name": "python",
   "nbconvert_exporter": "python",
   "pygments_lexer": "ipython3",
   "version": "3.9.13"
  }
 },
 "nbformat": 4,
 "nbformat_minor": 5
}
