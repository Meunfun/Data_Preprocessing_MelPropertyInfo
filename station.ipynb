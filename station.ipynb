{
 "cells": [
  {
   "cell_type": "markdown",
   "id": "3a710cef",
   "metadata": {},
   "source": [
    "This project is to find each preoperty information.\n",
    "1. if the closest station has direct line to Melbourne Central during weekday from 7 a.m. to 9 a.m. or not. \n",
    "2. How long would it take (average).\n",
    "3. number of houses in each suburb.\n",
    "4. number of units in each suburb (condo/apartment)\n",
    "5. municipality of the property suburb(LGA).\n",
    "6. Percentage of the Australian-born population in the property suburb.\n",
    "7. median income of the population in the property suburb \n",
    "8. population in the property suburb \n"
   ]
  },
  {
   "cell_type": "code",
   "execution_count": null,
   "id": "f5d8b909",
   "metadata": {},
   "outputs": [],
   "source": [
    "import pandas as pd"
   ]
  },
  {
   "cell_type": "markdown",
   "id": "77e85cce",
   "metadata": {},
   "source": [
    "# Extract data from files"
   ]
  },
  {
   "cell_type": "code",
   "execution_count": 19,
   "id": "d3891735",
   "metadata": {},
   "outputs": [],
   "source": [
    "jpath = 'data/house1.json' # path for json file\n",
    "xpath = 'data/house2.xml' # path for xml file"
   ]
  },
  {
   "cell_type": "markdown",
   "id": "2c4c448f",
   "metadata": {},
   "source": [
    "## JSON DATA"
   ]
  },
  {
   "cell_type": "code",
   "execution_count": 20,
   "id": "a382f50d",
   "metadata": {},
   "outputs": [
    {
     "data": {
      "text/html": [
       "<div>\n",
       "<style scoped>\n",
       "    .dataframe tbody tr th:only-of-type {\n",
       "        vertical-align: middle;\n",
       "    }\n",
       "\n",
       "    .dataframe tbody tr th {\n",
       "        vertical-align: top;\n",
       "    }\n",
       "\n",
       "    .dataframe thead th {\n",
       "        text-align: right;\n",
       "    }\n",
       "</style>\n",
       "<table border=\"1\" class=\"dataframe\">\n",
       "  <thead>\n",
       "    <tr style=\"text-align: right;\">\n",
       "      <th></th>\n",
       "      <th>property_id</th>\n",
       "      <th>lat</th>\n",
       "      <th>lng</th>\n",
       "      <th>addr_street</th>\n",
       "    </tr>\n",
       "  </thead>\n",
       "  <tbody>\n",
       "    <tr>\n",
       "      <th>0</th>\n",
       "      <td>29654</td>\n",
       "      <td>-37.783257</td>\n",
       "      <td>145.000198</td>\n",
       "      <td>2 Short Street</td>\n",
       "    </tr>\n",
       "    <tr>\n",
       "      <th>1</th>\n",
       "      <td>84314</td>\n",
       "      <td>-37.851406</td>\n",
       "      <td>145.003433</td>\n",
       "      <td>7 Pridham Street</td>\n",
       "    </tr>\n",
       "  </tbody>\n",
       "</table>\n",
       "</div>"
      ],
      "text/plain": [
       "   property_id        lat         lng       addr_street\n",
       "0        29654 -37.783257  145.000198    2 Short Street\n",
       "1        84314 -37.851406  145.003433  7 Pridham Street"
      ]
     },
     "execution_count": 20,
     "metadata": {},
     "output_type": "execute_result"
    }
   ],
   "source": [
    "j = pd.read_json(jpath) # use read json to parse json file\n",
    "j.head(2)"
   ]
  },
  {
   "cell_type": "markdown",
   "id": "f621889f",
   "metadata": {},
   "source": [
    "## XML DATA"
   ]
  },
  {
   "cell_type": "code",
   "execution_count": 21,
   "id": "25e7eb84",
   "metadata": {},
   "outputs": [
    {
     "ename": "XMLSyntaxError",
     "evalue": "Start tag expected, '<' not found, line 1, column 1 (<string>, line 1)",
     "output_type": "error",
     "traceback": [
      "Traceback \u001b[0;36m(most recent call last)\u001b[0m:\n",
      "  File \u001b[1;32m\"/Users/meunfunthanaprariwatkul/opt/anaconda3/lib/python3.9/site-packages/IPython/core/interactiveshell.py\"\u001b[0m, line \u001b[1;32m3457\u001b[0m, in \u001b[1;35mrun_code\u001b[0m\n    exec(code_obj, self.user_global_ns, self.user_ns)\n",
      "  File \u001b[1;32m\"/var/folders/hn/mgkfr3qd4652k_9wn776wn4m0000gn/T/ipykernel_20360/1226619532.py\"\u001b[0m, line \u001b[1;32m1\u001b[0m, in \u001b[1;35m<module>\u001b[0m\n    x = pd.read_xml('xpath')\n",
      "  File \u001b[1;32m\"/Users/meunfunthanaprariwatkul/opt/anaconda3/lib/python3.9/site-packages/pandas/util/_decorators.py\"\u001b[0m, line \u001b[1;32m311\u001b[0m, in \u001b[1;35mwrapper\u001b[0m\n    return func(*args, **kwargs)\n",
      "  File \u001b[1;32m\"/Users/meunfunthanaprariwatkul/opt/anaconda3/lib/python3.9/site-packages/pandas/io/xml.py\"\u001b[0m, line \u001b[1;32m938\u001b[0m, in \u001b[1;35mread_xml\u001b[0m\n    return _parse(\n",
      "  File \u001b[1;32m\"/Users/meunfunthanaprariwatkul/opt/anaconda3/lib/python3.9/site-packages/pandas/io/xml.py\"\u001b[0m, line \u001b[1;32m733\u001b[0m, in \u001b[1;35m_parse\u001b[0m\n    data_dicts = p.parse_data()\n",
      "  File \u001b[1;32m\"/Users/meunfunthanaprariwatkul/opt/anaconda3/lib/python3.9/site-packages/pandas/io/xml.py\"\u001b[0m, line \u001b[1;32m389\u001b[0m, in \u001b[1;35mparse_data\u001b[0m\n    self.xml_doc = XML(self._parse_doc(self.path_or_buffer))\n",
      "  File \u001b[1;32m\"/Users/meunfunthanaprariwatkul/opt/anaconda3/lib/python3.9/site-packages/pandas/io/xml.py\"\u001b[0m, line \u001b[1;32m554\u001b[0m, in \u001b[1;35m_parse_doc\u001b[0m\n    doc = fromstring(\n",
      "  File \u001b[1;32m\"src/lxml/etree.pyx\"\u001b[0m, line \u001b[1;32m3254\u001b[0m, in \u001b[1;35mlxml.etree.fromstring\u001b[0m\n",
      "  File \u001b[1;32m\"src/lxml/parser.pxi\"\u001b[0m, line \u001b[1;32m1913\u001b[0m, in \u001b[1;35mlxml.etree._parseMemoryDocument\u001b[0m\n",
      "  File \u001b[1;32m\"src/lxml/parser.pxi\"\u001b[0m, line \u001b[1;32m1800\u001b[0m, in \u001b[1;35mlxml.etree._parseDoc\u001b[0m\n",
      "  File \u001b[1;32m\"src/lxml/parser.pxi\"\u001b[0m, line \u001b[1;32m1141\u001b[0m, in \u001b[1;35mlxml.etree._BaseParser._parseDoc\u001b[0m\n",
      "  File \u001b[1;32m\"src/lxml/parser.pxi\"\u001b[0m, line \u001b[1;32m615\u001b[0m, in \u001b[1;35mlxml.etree._ParserContext._handleParseResultDoc\u001b[0m\n",
      "  File \u001b[1;32m\"src/lxml/parser.pxi\"\u001b[0m, line \u001b[1;32m725\u001b[0m, in \u001b[1;35mlxml.etree._handleParseResult\u001b[0m\n",
      "\u001b[0;36m  File \u001b[0;32m\"src/lxml/parser.pxi\"\u001b[0;36m, line \u001b[0;32m654\u001b[0;36m, in \u001b[0;35mlxml.etree._raiseParseError\u001b[0;36m\u001b[0m\n",
      "\u001b[0;36m  File \u001b[0;32m\"<string>\"\u001b[0;36m, line \u001b[0;32m1\u001b[0m\n\u001b[0;31mXMLSyntaxError\u001b[0m\u001b[0;31m:\u001b[0m Start tag expected, '<' not found, line 1, column 1\n"
     ]
    }
   ],
   "source": [
    "x = pd.read_xml('xpath')"
   ]
  },
  {
   "cell_type": "markdown",
   "id": "1f4ba5f9",
   "metadata": {},
   "source": [
    "### Fix XML File"
   ]
  },
  {
   "cell_type": "markdown",
   "id": "825048b0",
   "metadata": {},
   "source": [
    "Syntax error : Start tag expected, '<' not found, line 1, column 1\n",
    "so need to look in the file for xml format"
   ]
  },
  {
   "cell_type": "code",
   "execution_count": 22,
   "id": "22229afb",
   "metadata": {},
   "outputs": [
    {
     "name": "stdout",
     "output_type": "stream",
     "text": [
      "<property>\n",
      "  <property_id>53857</property_id>\n",
      "  <lat>-37.83034134</lat>\n",
      "  <lng>144.9947815</lng>\n",
      "  <addr_street>86 Balmain Street</addr_street>\n",
      "</property>\n",
      "<property>\n",
      "  <property_id>68409</property_id>\n",
      "  <lat>-37.856339</lat>\n",
      "  <lng>145.02240700000004</lng>\n",
      "  <addr_street>25 Clarendon Street</addr_s t>-37.741972</lat>\n",
      "  <lng>145.018771</lng>\n",
      "  <addr_street>126 Gower Street</addr_street>\n",
      "</property>\n"
     ]
    }
   ],
   "source": [
    "with open(xpath,'r') as xfile:\n",
    "    x = xfile.read()  # all xml\n",
    "print(x[0:300],\n",
    "x[-100:]) "
   ]
  },
  {
   "cell_type": "markdown",
   "id": "d8296375",
   "metadata": {},
   "source": [
    "Do not have wrapper "
   ]
  },
  {
   "cell_type": "code",
   "execution_count": 23,
   "id": "90719e75",
   "metadata": {},
   "outputs": [],
   "source": [
    "x = \"<property_list>\" + x + \"</property_list>\"  # add wrapper"
   ]
  },
  {
   "cell_type": "code",
   "execution_count": 24,
   "id": "9f6dcf96",
   "metadata": {},
   "outputs": [
    {
     "name": "stdout",
     "output_type": "stream",
     "text": [
      "<property_list><property>\n",
      "  <property_id>53857</property_id>\n",
      "  <lat>-37.83034134</lat>\n",
      "  <lng>144.9947815</lng>\n",
      "  <addr_street>86 Balmain Street</addr_street>\n",
      "</property>\n",
      "<property>\n",
      "  <property_id>68409</property_id>\n",
      "  <lat>-37.856339</lat>\n",
      "  <lng>145.02240700000004</lng>\n",
      "  <addr_street>25 Clarendon 2265</property_id>\n",
      "  <lat>-37.983546000000004</lat>\n",
      "  <lng>145.055963</lng>\n",
      "  <addr_street>39 Mundy Street</addr_street>\n",
      "</property>\n",
      "<property>\n",
      "  <property_id>31804</property_id>\n",
      "  <lat>-37.741972</lat>\n",
      "  <lng>145.018771</lng>\n",
      "  <addr_street>126 Gower Street</addr_street>\n",
      "</property></property_list>\n"
     ]
    }
   ],
   "source": [
    "print(x[0:300],\n",
    "x[-300:])"
   ]
  },
  {
   "cell_type": "code",
   "execution_count": 25,
   "id": "8d834855",
   "metadata": {},
   "outputs": [
    {
     "ename": "XMLSyntaxError",
     "evalue": "xmlParseEntityRef: no name, line 3107, column 18 (<string>, line 3107)",
     "output_type": "error",
     "traceback": [
      "Traceback \u001b[0;36m(most recent call last)\u001b[0m:\n",
      "  File \u001b[1;32m\"/Users/meunfunthanaprariwatkul/opt/anaconda3/lib/python3.9/site-packages/IPython/core/interactiveshell.py\"\u001b[0m, line \u001b[1;32m3457\u001b[0m, in \u001b[1;35mrun_code\u001b[0m\n    exec(code_obj, self.user_global_ns, self.user_ns)\n",
      "  File \u001b[1;32m\"/var/folders/hn/mgkfr3qd4652k_9wn776wn4m0000gn/T/ipykernel_20360/3219649211.py\"\u001b[0m, line \u001b[1;32m1\u001b[0m, in \u001b[1;35m<module>\u001b[0m\n    x = pd.read_xml(x)\n",
      "  File \u001b[1;32m\"/Users/meunfunthanaprariwatkul/opt/anaconda3/lib/python3.9/site-packages/pandas/util/_decorators.py\"\u001b[0m, line \u001b[1;32m311\u001b[0m, in \u001b[1;35mwrapper\u001b[0m\n    return func(*args, **kwargs)\n",
      "  File \u001b[1;32m\"/Users/meunfunthanaprariwatkul/opt/anaconda3/lib/python3.9/site-packages/pandas/io/xml.py\"\u001b[0m, line \u001b[1;32m938\u001b[0m, in \u001b[1;35mread_xml\u001b[0m\n    return _parse(\n",
      "  File \u001b[1;32m\"/Users/meunfunthanaprariwatkul/opt/anaconda3/lib/python3.9/site-packages/pandas/io/xml.py\"\u001b[0m, line \u001b[1;32m733\u001b[0m, in \u001b[1;35m_parse\u001b[0m\n    data_dicts = p.parse_data()\n",
      "  File \u001b[1;32m\"/Users/meunfunthanaprariwatkul/opt/anaconda3/lib/python3.9/site-packages/pandas/io/xml.py\"\u001b[0m, line \u001b[1;32m389\u001b[0m, in \u001b[1;35mparse_data\u001b[0m\n    self.xml_doc = XML(self._parse_doc(self.path_or_buffer))\n",
      "  File \u001b[1;32m\"/Users/meunfunthanaprariwatkul/opt/anaconda3/lib/python3.9/site-packages/pandas/io/xml.py\"\u001b[0m, line \u001b[1;32m554\u001b[0m, in \u001b[1;35m_parse_doc\u001b[0m\n    doc = fromstring(\n",
      "  File \u001b[1;32m\"src/lxml/etree.pyx\"\u001b[0m, line \u001b[1;32m3254\u001b[0m, in \u001b[1;35mlxml.etree.fromstring\u001b[0m\n",
      "  File \u001b[1;32m\"src/lxml/parser.pxi\"\u001b[0m, line \u001b[1;32m1913\u001b[0m, in \u001b[1;35mlxml.etree._parseMemoryDocument\u001b[0m\n",
      "  File \u001b[1;32m\"src/lxml/parser.pxi\"\u001b[0m, line \u001b[1;32m1800\u001b[0m, in \u001b[1;35mlxml.etree._parseDoc\u001b[0m\n",
      "  File \u001b[1;32m\"src/lxml/parser.pxi\"\u001b[0m, line \u001b[1;32m1141\u001b[0m, in \u001b[1;35mlxml.etree._BaseParser._parseDoc\u001b[0m\n",
      "  File \u001b[1;32m\"src/lxml/parser.pxi\"\u001b[0m, line \u001b[1;32m615\u001b[0m, in \u001b[1;35mlxml.etree._ParserContext._handleParseResultDoc\u001b[0m\n",
      "  File \u001b[1;32m\"src/lxml/parser.pxi\"\u001b[0m, line \u001b[1;32m725\u001b[0m, in \u001b[1;35mlxml.etree._handleParseResult\u001b[0m\n",
      "\u001b[0;36m  File \u001b[0;32m\"src/lxml/parser.pxi\"\u001b[0;36m, line \u001b[0;32m654\u001b[0;36m, in \u001b[0;35mlxml.etree._raiseParseError\u001b[0;36m\u001b[0m\n",
      "\u001b[0;36m  File \u001b[0;32m\"<string>\"\u001b[0;36m, line \u001b[0;32m3107\u001b[0m\n\u001b[0;31mXMLSyntaxError\u001b[0m\u001b[0;31m:\u001b[0m xmlParseEntityRef: no name, line 3107, column 18\n"
     ]
    }
   ],
   "source": [
    "x = pd.read_xml(x)"
   ]
  },
  {
   "cell_type": "markdown",
   "id": "bbb3e7f1",
   "metadata": {},
   "source": [
    "\n",
    "Still have syntax error: no name, line 3107, column 18.\n",
    "So check line 3107"
   ]
  },
  {
   "cell_type": "code",
   "execution_count": 26,
   "id": "cf87c693",
   "metadata": {},
   "outputs": [],
   "source": [
    "# create list to access each line.\n",
    "with open(xpath, \"r\") as xl: # open the file again\n",
    "    alllines = xl.readlines() # use realines to make each line into element of list\n"
   ]
  },
  {
   "cell_type": "code",
   "execution_count": 27,
   "id": "04d4c478",
   "metadata": {},
   "outputs": [
    {
     "data": {
      "text/plain": [
       "'  <addr_street>2&3/17-19 Browning Street</addr_street>\\n'"
      ]
     },
     "execution_count": 27,
     "metadata": {},
     "output_type": "execute_result"
    }
   ],
   "source": [
    "# access line 3107 as index 3106\n",
    "alllines[3106]"
   ]
  },
  {
   "cell_type": "markdown",
   "id": "00f8f897",
   "metadata": {},
   "source": [
    "***<** and **&** are strictly illegal in XML need to change to pre-defined entity*\n",
    "\n",
    "There are 5 pre-defined entity references in XML:\n",
    "|XML|Sign|Def|\n",
    "|----|----|---------|\n",
    "|\\&lt;|<|less than|\n",
    "|\\&gt;|>|greater than|\n",
    "|\\&amp;|&|ampersand|\n",
    "|\\&apos;|'|apostrophe|\n",
    "|\\&quot;|\"|quotation mark|\n",
    "\n",
    "ref : https://www.w3schools.com/xml/xml_syntax.asp"
   ]
  },
  {
   "cell_type": "code",
   "execution_count": 28,
   "id": "33da27b5",
   "metadata": {},
   "outputs": [],
   "source": [
    "x = x.replace(\"&\",\"&amp;\")"
   ]
  },
  {
   "cell_type": "code",
   "execution_count": 29,
   "id": "c89497cf",
   "metadata": {},
   "outputs": [],
   "source": [
    "x = pd.read_xml(x)"
   ]
  },
  {
   "cell_type": "code",
   "execution_count": 30,
   "id": "3c930116",
   "metadata": {},
   "outputs": [
    {
     "data": {
      "text/html": [
       "<div>\n",
       "<style scoped>\n",
       "    .dataframe tbody tr th:only-of-type {\n",
       "        vertical-align: middle;\n",
       "    }\n",
       "\n",
       "    .dataframe tbody tr th {\n",
       "        vertical-align: top;\n",
       "    }\n",
       "\n",
       "    .dataframe thead th {\n",
       "        text-align: right;\n",
       "    }\n",
       "</style>\n",
       "<table border=\"1\" class=\"dataframe\">\n",
       "  <thead>\n",
       "    <tr style=\"text-align: right;\">\n",
       "      <th></th>\n",
       "      <th>property_id</th>\n",
       "      <th>lat</th>\n",
       "      <th>lng</th>\n",
       "      <th>addr_street</th>\n",
       "    </tr>\n",
       "  </thead>\n",
       "  <tbody>\n",
       "    <tr>\n",
       "      <th>0</th>\n",
       "      <td>53857</td>\n",
       "      <td>-37.830341</td>\n",
       "      <td>144.994781</td>\n",
       "      <td>86 Balmain Street</td>\n",
       "    </tr>\n",
       "    <tr>\n",
       "      <th>1</th>\n",
       "      <td>68409</td>\n",
       "      <td>-37.856339</td>\n",
       "      <td>145.022407</td>\n",
       "      <td>25 Clarendon Street</td>\n",
       "    </tr>\n",
       "  </tbody>\n",
       "</table>\n",
       "</div>"
      ],
      "text/plain": [
       "   property_id        lat         lng          addr_street\n",
       "0        53857 -37.830341  144.994781    86 Balmain Street\n",
       "1        68409 -37.856339  145.022407  25 Clarendon Street"
      ]
     },
     "execution_count": 30,
     "metadata": {},
     "output_type": "execute_result"
    }
   ],
   "source": [
    "x.head(2)"
   ]
  },
  {
   "cell_type": "markdown",
   "id": "6864df4a",
   "metadata": {},
   "source": [
    "## Combine JSON and XML df"
   ]
  },
  {
   "cell_type": "code",
   "execution_count": 31,
   "id": "f4de895e",
   "metadata": {},
   "outputs": [
    {
     "name": "stdout",
     "output_type": "stream",
     "text": [
      "(1015, 4) (1019, 4)\n"
     ]
    }
   ],
   "source": [
    "print(x.shape,j.shape)"
   ]
  },
  {
   "cell_type": "code",
   "execution_count": 32,
   "id": "f57006d1",
   "metadata": {},
   "outputs": [],
   "source": [
    "property = pd.concat([x,j], ignore_index=True) # index need to be re-running"
   ]
  },
  {
   "cell_type": "code",
   "execution_count": 33,
   "id": "bf6f99f9",
   "metadata": {},
   "outputs": [
    {
     "data": {
      "text/plain": [
       "(2034, 4)"
      ]
     },
     "execution_count": 33,
     "metadata": {},
     "output_type": "execute_result"
    }
   ],
   "source": [
    "property.shape"
   ]
  },
  {
   "cell_type": "markdown",
   "id": "c4ca56c1",
   "metadata": {},
   "source": [
    "# Cleaning the combined file"
   ]
  },
  {
   "cell_type": "markdown",
   "id": "6e05be81",
   "metadata": {},
   "source": [
    "## check and manage duplicates"
   ]
  },
  {
   "cell_type": "markdown",
   "id": "d986c274",
   "metadata": {},
   "source": [
    "There is key column, property_id, which each property should have distince value. Therefore anchor in that column if have any duplicate, drop it out."
   ]
  },
  {
   "cell_type": "code",
   "execution_count": null,
   "id": "b1ddbcbe",
   "metadata": {},
   "outputs": [],
   "source": [
    "unique_property = property.drop_duplicates(subset='property_id').copy().reset_index(drop=True)"
   ]
  },
  {
   "cell_type": "code",
   "execution_count": 35,
   "id": "f6d02c72",
   "metadata": {},
   "outputs": [],
   "source": [
    "unique_property = property.drop_duplicates(subset='property_id').copy() #copy from original list"
   ]
  },
  {
   "cell_type": "code",
   "execution_count": 39,
   "id": "442d3a23",
   "metadata": {},
   "outputs": [],
   "source": [
    "unique_property = unique_property.reset_index(drop=True) #reset index"
   ]
  },
  {
   "cell_type": "code",
   "execution_count": 41,
   "id": "df36c61c",
   "metadata": {},
   "outputs": [
    {
     "data": {
      "text/html": [
       "<div>\n",
       "<style scoped>\n",
       "    .dataframe tbody tr th:only-of-type {\n",
       "        vertical-align: middle;\n",
       "    }\n",
       "\n",
       "    .dataframe tbody tr th {\n",
       "        vertical-align: top;\n",
       "    }\n",
       "\n",
       "    .dataframe thead th {\n",
       "        text-align: right;\n",
       "    }\n",
       "</style>\n",
       "<table border=\"1\" class=\"dataframe\">\n",
       "  <thead>\n",
       "    <tr style=\"text-align: right;\">\n",
       "      <th></th>\n",
       "      <th>property_id</th>\n",
       "      <th>lat</th>\n",
       "      <th>lng</th>\n",
       "      <th>addr_street</th>\n",
       "    </tr>\n",
       "  </thead>\n",
       "  <tbody>\n",
       "    <tr>\n",
       "      <th>0</th>\n",
       "      <td>53857</td>\n",
       "      <td>-37.830341</td>\n",
       "      <td>144.994781</td>\n",
       "      <td>86 Balmain Street</td>\n",
       "    </tr>\n",
       "    <tr>\n",
       "      <th>1</th>\n",
       "      <td>68409</td>\n",
       "      <td>-37.856339</td>\n",
       "      <td>145.022407</td>\n",
       "      <td>25 Clarendon Street</td>\n",
       "    </tr>\n",
       "  </tbody>\n",
       "</table>\n",
       "</div>"
      ],
      "text/plain": [
       "   property_id        lat         lng          addr_street\n",
       "0        53857 -37.830341  144.994781    86 Balmain Street\n",
       "1        68409 -37.856339  145.022407  25 Clarendon Street"
      ]
     },
     "execution_count": 41,
     "metadata": {},
     "output_type": "execute_result"
    }
   ],
   "source": [
    "unique_property.head(2)"
   ]
  },
  {
   "cell_type": "code",
   "execution_count": null,
   "id": "16279a27",
   "metadata": {},
   "outputs": [
    {
     "data": {
      "text/plain": [
       "property_id    0\n",
       "lat            0\n",
       "lng            0\n",
       "addr_street    0\n",
       "dtype: int64"
      ]
     },
     "execution_count": 42,
     "metadata": {},
     "output_type": "execute_result"
    }
   ],
   "source": [
    "(unique_property== 'NA').sum() # check NA"
   ]
  },
  {
   "cell_type": "markdown",
   "id": "426982c0",
   "metadata": {},
   "source": [
    "# Find suburb of each property"
   ]
  },
  {
   "cell_type": "markdown",
   "id": "74de3916",
   "metadata": {},
   "source": [
    "## Clean suburb file"
   ]
  },
  {
   "cell_type": "code",
   "execution_count": 44,
   "id": "4ee8ccb0",
   "metadata": {},
   "outputs": [],
   "source": [
    "import geopandas as gpd"
   ]
  },
  {
   "cell_type": "code",
   "execution_count": 43,
   "id": "92cb1bbd",
   "metadata": {},
   "outputs": [],
   "source": [
    "sub_path = \"supplementary_data/Vic_suburb_boundary/VIC_LOCALITY_POLYGON_shp.shp\""
   ]
  },
  {
   "cell_type": "code",
   "execution_count": 47,
   "id": "42a3ffb4",
   "metadata": {},
   "outputs": [
    {
     "data": {
      "text/html": [
       "<div>\n",
       "<style scoped>\n",
       "    .dataframe tbody tr th:only-of-type {\n",
       "        vertical-align: middle;\n",
       "    }\n",
       "\n",
       "    .dataframe tbody tr th {\n",
       "        vertical-align: top;\n",
       "    }\n",
       "\n",
       "    .dataframe thead th {\n",
       "        text-align: right;\n",
       "    }\n",
       "</style>\n",
       "<table border=\"1\" class=\"dataframe\">\n",
       "  <thead>\n",
       "    <tr style=\"text-align: right;\">\n",
       "      <th></th>\n",
       "      <th>LC_PLY_PID</th>\n",
       "      <th>DT_CREATE</th>\n",
       "      <th>DT_RETIRE</th>\n",
       "      <th>LOC_PID</th>\n",
       "      <th>VIC_LOCALI</th>\n",
       "      <th>VIC_LOCA_1</th>\n",
       "      <th>VIC_LOCA_2</th>\n",
       "      <th>VIC_LOCA_3</th>\n",
       "      <th>VIC_LOCA_4</th>\n",
       "      <th>VIC_LOCA_5</th>\n",
       "      <th>VIC_LOCA_6</th>\n",
       "      <th>VIC_LOCA_7</th>\n",
       "      <th>geometry</th>\n",
       "    </tr>\n",
       "  </thead>\n",
       "  <tbody>\n",
       "    <tr>\n",
       "      <th>0</th>\n",
       "      <td>6670</td>\n",
       "      <td>2011-08-31</td>\n",
       "      <td>None</td>\n",
       "      <td>VIC2615</td>\n",
       "      <td>2012-04-27</td>\n",
       "      <td>None</td>\n",
       "      <td>UNDERBOOL</td>\n",
       "      <td>None</td>\n",
       "      <td>None</td>\n",
       "      <td>G</td>\n",
       "      <td>None</td>\n",
       "      <td>2</td>\n",
       "      <td>POLYGON ((141.74552 -35.07229, 141.74552 -35.0...</td>\n",
       "    </tr>\n",
       "    <tr>\n",
       "      <th>1</th>\n",
       "      <td>6671</td>\n",
       "      <td>2011-08-31</td>\n",
       "      <td>None</td>\n",
       "      <td>VIC1986</td>\n",
       "      <td>2012-04-27</td>\n",
       "      <td>None</td>\n",
       "      <td>NURRAN</td>\n",
       "      <td>None</td>\n",
       "      <td>None</td>\n",
       "      <td>G</td>\n",
       "      <td>None</td>\n",
       "      <td>2</td>\n",
       "      <td>POLYGON ((148.66877 -37.39571, 148.66876 -37.3...</td>\n",
       "    </tr>\n",
       "  </tbody>\n",
       "</table>\n",
       "</div>"
      ],
      "text/plain": [
       "  LC_PLY_PID   DT_CREATE DT_RETIRE  LOC_PID  VIC_LOCALI VIC_LOCA_1 VIC_LOCA_2  \\\n",
       "0       6670  2011-08-31      None  VIC2615  2012-04-27       None  UNDERBOOL   \n",
       "1       6671  2011-08-31      None  VIC1986  2012-04-27       None     NURRAN   \n",
       "\n",
       "  VIC_LOCA_3 VIC_LOCA_4 VIC_LOCA_5 VIC_LOCA_6 VIC_LOCA_7  \\\n",
       "0       None       None          G       None          2   \n",
       "1       None       None          G       None          2   \n",
       "\n",
       "                                            geometry  \n",
       "0  POLYGON ((141.74552 -35.07229, 141.74552 -35.0...  \n",
       "1  POLYGON ((148.66877 -37.39571, 148.66876 -37.3...  "
      ]
     },
     "execution_count": 47,
     "metadata": {},
     "output_type": "execute_result"
    }
   ],
   "source": [
    "sub = gpd.read_file(sub_path)\n",
    "sub.head(2)"
   ]
  },
  {
   "cell_type": "code",
   "execution_count": null,
   "id": "611e9248",
   "metadata": {},
   "outputs": [],
   "source": [
    "subclean = sub[['VIC_LOCA_2','geometry']]\n",
    "subclean.rename(columns={'VIC_LOCA_2':'suburb'}, inplace=True) # change column name"
   ]
  },
  {
   "cell_type": "code",
   "execution_count": 61,
   "id": "0e229129",
   "metadata": {},
   "outputs": [
    {
     "data": {
      "text/html": [
       "<div>\n",
       "<style scoped>\n",
       "    .dataframe tbody tr th:only-of-type {\n",
       "        vertical-align: middle;\n",
       "    }\n",
       "\n",
       "    .dataframe tbody tr th {\n",
       "        vertical-align: top;\n",
       "    }\n",
       "\n",
       "    .dataframe thead th {\n",
       "        text-align: right;\n",
       "    }\n",
       "</style>\n",
       "<table border=\"1\" class=\"dataframe\">\n",
       "  <thead>\n",
       "    <tr style=\"text-align: right;\">\n",
       "      <th></th>\n",
       "      <th>suburb</th>\n",
       "      <th>geometry</th>\n",
       "    </tr>\n",
       "  </thead>\n",
       "  <tbody>\n",
       "    <tr>\n",
       "      <th>0</th>\n",
       "      <td>UNDERBOOL</td>\n",
       "      <td>POLYGON ((141.74552 -35.07229, 141.74552 -35.0...</td>\n",
       "    </tr>\n",
       "    <tr>\n",
       "      <th>1</th>\n",
       "      <td>NURRAN</td>\n",
       "      <td>POLYGON ((148.66877 -37.39571, 148.66876 -37.3...</td>\n",
       "    </tr>\n",
       "  </tbody>\n",
       "</table>\n",
       "</div>"
      ],
      "text/plain": [
       "      suburb                                           geometry\n",
       "0  UNDERBOOL  POLYGON ((141.74552 -35.07229, 141.74552 -35.0...\n",
       "1     NURRAN  POLYGON ((148.66877 -37.39571, 148.66876 -37.3..."
      ]
     },
     "execution_count": 61,
     "metadata": {},
     "output_type": "execute_result"
    }
   ],
   "source": [
    "subclean.head(2)"
   ]
  },
  {
   "cell_type": "code",
   "execution_count": 62,
   "id": "6cf4efbf",
   "metadata": {},
   "outputs": [],
   "source": [
    "from shapely.geometry import Point # use for plot in geometry"
   ]
  },
  {
   "cell_type": "markdown",
   "id": "63957c7a",
   "metadata": {},
   "source": [
    "## Find suburb of each property"
   ]
  },
  {
   "cell_type": "markdown",
   "id": "7d80adac",
   "metadata": {},
   "source": [
    "Need to find suburb as the stations"
   ]
  },
  {
   "cell_type": "code",
   "execution_count": null,
   "id": "986c553d",
   "metadata": {},
   "outputs": [],
   "source": [
    "def findsuburbname(long,lat):\n",
    "    '''\n",
    "    use the location of property to find suburb\n",
    "    '''\n",
    "    \n",
    "    proplocation = Point(long,lat)\n",
    "    # locate where True(geo contain proplocation) then get suburb\n",
    "    try:\n",
    "        suburb = subclean.loc[subclean['geometry'].contains(proplocation), 'suburb'].values[0] \n",
    "    except:\n",
    "        suburb = \"NA\"\n",
    "    \n",
    "    return suburb"
   ]
  },
  {
   "cell_type": "code",
   "execution_count": 74,
   "id": "70a9429c",
   "metadata": {},
   "outputs": [],
   "source": [
    "unique_property['suburb'] = unique_property.apply(lambda x: findsuburbname(x['lng'],x['lat']), axis =1)"
   ]
  },
  {
   "cell_type": "code",
   "execution_count": 75,
   "id": "480219c7",
   "metadata": {},
   "outputs": [
    {
     "data": {
      "text/html": [
       "<div>\n",
       "<style scoped>\n",
       "    .dataframe tbody tr th:only-of-type {\n",
       "        vertical-align: middle;\n",
       "    }\n",
       "\n",
       "    .dataframe tbody tr th {\n",
       "        vertical-align: top;\n",
       "    }\n",
       "\n",
       "    .dataframe thead th {\n",
       "        text-align: right;\n",
       "    }\n",
       "</style>\n",
       "<table border=\"1\" class=\"dataframe\">\n",
       "  <thead>\n",
       "    <tr style=\"text-align: right;\">\n",
       "      <th></th>\n",
       "      <th>property_id</th>\n",
       "      <th>lat</th>\n",
       "      <th>lng</th>\n",
       "      <th>addr_street</th>\n",
       "      <th>suburb</th>\n",
       "    </tr>\n",
       "  </thead>\n",
       "  <tbody>\n",
       "    <tr>\n",
       "      <th>0</th>\n",
       "      <td>53857</td>\n",
       "      <td>-37.830341</td>\n",
       "      <td>144.994781</td>\n",
       "      <td>86 Balmain Street</td>\n",
       "      <td>CREMORNE</td>\n",
       "    </tr>\n",
       "    <tr>\n",
       "      <th>1</th>\n",
       "      <td>68409</td>\n",
       "      <td>-37.856339</td>\n",
       "      <td>145.022407</td>\n",
       "      <td>25 Clarendon Street</td>\n",
       "      <td>ARMADALE</td>\n",
       "    </tr>\n",
       "  </tbody>\n",
       "</table>\n",
       "</div>"
      ],
      "text/plain": [
       "   property_id        lat         lng          addr_street    suburb\n",
       "0        53857 -37.830341  144.994781    86 Balmain Street  CREMORNE\n",
       "1        68409 -37.856339  145.022407  25 Clarendon Street  ARMADALE"
      ]
     },
     "execution_count": 75,
     "metadata": {},
     "output_type": "execute_result"
    }
   ],
   "source": [
    "unique_property.head(2)"
   ]
  },
  {
   "cell_type": "code",
   "execution_count": 78,
   "id": "7e6f2642",
   "metadata": {},
   "outputs": [
    {
     "data": {
      "text/plain": [
       "(2012, 5)"
      ]
     },
     "execution_count": 78,
     "metadata": {},
     "output_type": "execute_result"
    }
   ],
   "source": [
    "unique_property.shape"
   ]
  },
  {
   "cell_type": "code",
   "execution_count": null,
   "id": "cfdd0e7f",
   "metadata": {},
   "outputs": [],
   "source": []
  },
  {
   "cell_type": "code",
   "execution_count": null,
   "id": "cc46fecd",
   "metadata": {},
   "outputs": [],
   "source": []
  },
  {
   "cell_type": "code",
   "execution_count": null,
   "id": "a0afc9a3",
   "metadata": {},
   "outputs": [],
   "source": []
  }
 ],
 "metadata": {
  "kernelspec": {
   "display_name": "base",
   "language": "python",
   "name": "python3"
  },
  "language_info": {
   "codemirror_mode": {
    "name": "ipython",
    "version": 3
   },
   "file_extension": ".py",
   "mimetype": "text/x-python",
   "name": "python",
   "nbconvert_exporter": "python",
   "pygments_lexer": "ipython3",
   "version": "3.9.13"
  }
 },
 "nbformat": 4,
 "nbformat_minor": 5
}
