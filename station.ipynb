{
 "cells": [
  {
   "cell_type": "markdown",
   "id": "3a710cef",
   "metadata": {},
   "source": [
    "This project is to find each preoperty information.\n",
    "1. if the closest station has direct line to Melbourne Central during weekday from 7 a.m. to 9 a.m. or not. \n",
    "2. How long would it take (average).\n",
    "3. number of houses in each suburb.\n",
    "4. number of units in each suburb (condo/apartment)\n",
    "5. municipality of the property suburb(LGA).\n",
    "6. Percentage of the Australian-born population in the property suburb.\n",
    "7. median income of the population in the property suburb \n",
    "8. population in the property suburb \n"
   ]
  },
  {
   "cell_type": "code",
   "execution_count": 1,
   "id": "f5d8b909",
   "metadata": {},
   "outputs": [],
   "source": [
    "import pandas as pd"
   ]
  },
  {
   "cell_type": "markdown",
   "id": "77e85cce",
   "metadata": {},
   "source": [
    "# Extract data from files"
   ]
  },
  {
   "cell_type": "code",
   "execution_count": 2,
   "id": "d3891735",
   "metadata": {},
   "outputs": [],
   "source": [
    "jpath = 'data/house1.json' # path for json file\n",
    "xpath = 'data/house2.xml' # path for xml file"
   ]
  },
  {
   "cell_type": "markdown",
   "id": "2c4c448f",
   "metadata": {},
   "source": [
    "## JSON DATA"
   ]
  },
  {
   "cell_type": "code",
   "execution_count": 3,
   "id": "a382f50d",
   "metadata": {},
   "outputs": [
    {
     "data": {
      "text/html": [
       "<div>\n",
       "<style scoped>\n",
       "    .dataframe tbody tr th:only-of-type {\n",
       "        vertical-align: middle;\n",
       "    }\n",
       "\n",
       "    .dataframe tbody tr th {\n",
       "        vertical-align: top;\n",
       "    }\n",
       "\n",
       "    .dataframe thead th {\n",
       "        text-align: right;\n",
       "    }\n",
       "</style>\n",
       "<table border=\"1\" class=\"dataframe\">\n",
       "  <thead>\n",
       "    <tr style=\"text-align: right;\">\n",
       "      <th></th>\n",
       "      <th>property_id</th>\n",
       "      <th>lat</th>\n",
       "      <th>lng</th>\n",
       "      <th>addr_street</th>\n",
       "    </tr>\n",
       "  </thead>\n",
       "  <tbody>\n",
       "    <tr>\n",
       "      <th>0</th>\n",
       "      <td>29654</td>\n",
       "      <td>-37.783257</td>\n",
       "      <td>145.000198</td>\n",
       "      <td>2 Short Street</td>\n",
       "    </tr>\n",
       "    <tr>\n",
       "      <th>1</th>\n",
       "      <td>84314</td>\n",
       "      <td>-37.851406</td>\n",
       "      <td>145.003433</td>\n",
       "      <td>7 Pridham Street</td>\n",
       "    </tr>\n",
       "  </tbody>\n",
       "</table>\n",
       "</div>"
      ],
      "text/plain": [
       "   property_id        lat         lng       addr_street\n",
       "0        29654 -37.783257  145.000198    2 Short Street\n",
       "1        84314 -37.851406  145.003433  7 Pridham Street"
      ]
     },
     "execution_count": 3,
     "metadata": {},
     "output_type": "execute_result"
    }
   ],
   "source": [
    "j = pd.read_json(jpath) # use read json to parse json file\n",
    "j.head(2)"
   ]
  },
  {
   "cell_type": "markdown",
   "id": "f621889f",
   "metadata": {},
   "source": [
    "## XML DATA"
   ]
  },
  {
   "cell_type": "code",
   "execution_count": null,
   "id": "25e7eb84",
   "metadata": {},
   "outputs": [],
   "source": [
    "x = pd.read_xml('xpath')"
   ]
  },
  {
   "cell_type": "markdown",
   "id": "1f4ba5f9",
   "metadata": {},
   "source": [
    "### Fix XML File"
   ]
  },
  {
   "cell_type": "markdown",
   "id": "825048b0",
   "metadata": {},
   "source": [
    "Syntax error : Start tag expected, '<' not found, line 1, column 1\n",
    "so need to look in the file for xml format"
   ]
  },
  {
   "cell_type": "code",
   "execution_count": 4,
   "id": "22229afb",
   "metadata": {},
   "outputs": [
    {
     "name": "stdout",
     "output_type": "stream",
     "text": [
      "<property>\n",
      "  <property_id>53857</property_id>\n",
      "  <lat>-37.83034134</lat>\n",
      "  <lng>144.9947815</lng>\n",
      "  <addr_street>86 Balmain Street</addr_street>\n",
      "</property>\n",
      "<property>\n",
      "  <property_id>68409</property_id>\n",
      "  <lat>-37.856339</lat>\n",
      "  <lng>145.02240700000004</lng>\n",
      "  <addr_street>25 Clarendon Street</addr_s t>-37.741972</lat>\n",
      "  <lng>145.018771</lng>\n",
      "  <addr_street>126 Gower Street</addr_street>\n",
      "</property>\n"
     ]
    }
   ],
   "source": [
    "with open(xpath,'r') as xfile:\n",
    "    x = xfile.read()  # all xml\n",
    "print(x[0:300],\n",
    "x[-100:]) "
   ]
  },
  {
   "cell_type": "markdown",
   "id": "d8296375",
   "metadata": {},
   "source": [
    "Do not have wrapper "
   ]
  },
  {
   "cell_type": "code",
   "execution_count": 5,
   "id": "90719e75",
   "metadata": {},
   "outputs": [],
   "source": [
    "x = \"<property_list>\" + x + \"</property_list>\"  # add wrapper"
   ]
  },
  {
   "cell_type": "code",
   "execution_count": null,
   "id": "9f6dcf96",
   "metadata": {},
   "outputs": [],
   "source": [
    "print(x[0:300],\n",
    "x[-300:])"
   ]
  },
  {
   "cell_type": "code",
   "execution_count": null,
   "id": "8d834855",
   "metadata": {},
   "outputs": [],
   "source": [
    "x = pd.read_xml(x)"
   ]
  },
  {
   "cell_type": "markdown",
   "id": "bbb3e7f1",
   "metadata": {},
   "source": [
    "\n",
    "Still have syntax error: no name, line 3107, column 18.\n",
    "So check line 3107"
   ]
  },
  {
   "cell_type": "code",
   "execution_count": 6,
   "id": "cf87c693",
   "metadata": {},
   "outputs": [],
   "source": [
    "# create list to access each line.\n",
    "with open(xpath, \"r\") as xl: # open the file again\n",
    "    alllines = xl.readlines() # use realines to make each line into element of list\n"
   ]
  },
  {
   "cell_type": "code",
   "execution_count": 7,
   "id": "04d4c478",
   "metadata": {},
   "outputs": [
    {
     "data": {
      "text/plain": [
       "'  <addr_street>2&3/17-19 Browning Street</addr_street>\\n'"
      ]
     },
     "execution_count": 7,
     "metadata": {},
     "output_type": "execute_result"
    }
   ],
   "source": [
    "# access line 3107 as index 3106\n",
    "alllines[3106]"
   ]
  },
  {
   "cell_type": "markdown",
   "id": "00f8f897",
   "metadata": {},
   "source": [
    "***<** and **&** are strictly illegal in XML need to change to pre-defined entity*\n",
    "\n",
    "There are 5 pre-defined entity references in XML:\n",
    "|XML|Sign|Def|\n",
    "|----|----|---------|\n",
    "|\\&lt;|<|less than|\n",
    "|\\&gt;|>|greater than|\n",
    "|\\&amp;|&|ampersand|\n",
    "|\\&apos;|'|apostrophe|\n",
    "|\\&quot;|\"|quotation mark|\n",
    "\n",
    "ref : https://www.w3schools.com/xml/xml_syntax.asp"
   ]
  },
  {
   "cell_type": "code",
   "execution_count": 8,
   "id": "33da27b5",
   "metadata": {},
   "outputs": [],
   "source": [
    "x = x.replace(\"&\",\"&amp;\")"
   ]
  },
  {
   "cell_type": "code",
   "execution_count": 9,
   "id": "c89497cf",
   "metadata": {},
   "outputs": [],
   "source": [
    "x = pd.read_xml(x)"
   ]
  },
  {
   "cell_type": "code",
   "execution_count": null,
   "id": "3c930116",
   "metadata": {},
   "outputs": [],
   "source": [
    "x.head(2)"
   ]
  },
  {
   "cell_type": "markdown",
   "id": "6864df4a",
   "metadata": {},
   "source": [
    "## Combine JSON and XML df"
   ]
  },
  {
   "cell_type": "code",
   "execution_count": null,
   "id": "f4de895e",
   "metadata": {},
   "outputs": [],
   "source": [
    "print(x.shape,j.shape)"
   ]
  },
  {
   "cell_type": "code",
   "execution_count": 10,
   "id": "f57006d1",
   "metadata": {},
   "outputs": [],
   "source": [
    "property = pd.concat([x,j], ignore_index=True) # index need to be re-running"
   ]
  },
  {
   "cell_type": "code",
   "execution_count": null,
   "id": "bf6f99f9",
   "metadata": {},
   "outputs": [],
   "source": [
    "property.shape"
   ]
  },
  {
   "cell_type": "markdown",
   "id": "c4ca56c1",
   "metadata": {},
   "source": [
    "# Cleaning the combined file"
   ]
  },
  {
   "cell_type": "markdown",
   "id": "6e05be81",
   "metadata": {},
   "source": [
    "## check and manage duplicates"
   ]
  },
  {
   "cell_type": "markdown",
   "id": "d986c274",
   "metadata": {},
   "source": [
    "There is key column, property_id, which each property should have distince value. Therefore anchor in that column if have any duplicate, drop it out."
   ]
  },
  {
   "cell_type": "code",
   "execution_count": 12,
   "id": "f6d02c72",
   "metadata": {},
   "outputs": [],
   "source": [
    "unique_property = property.drop_duplicates(subset='property_id').copy() #copy from original list"
   ]
  },
  {
   "cell_type": "code",
   "execution_count": 13,
   "id": "442d3a23",
   "metadata": {},
   "outputs": [],
   "source": [
    "unique_property = unique_property.reset_index(drop=True) #reset index"
   ]
  },
  {
   "cell_type": "code",
   "execution_count": null,
   "id": "df36c61c",
   "metadata": {},
   "outputs": [],
   "source": [
    "unique_property.head(2)"
   ]
  },
  {
   "cell_type": "code",
   "execution_count": 14,
   "id": "16279a27",
   "metadata": {},
   "outputs": [
    {
     "data": {
      "text/plain": [
       "property_id    0\n",
       "lat            0\n",
       "lng            0\n",
       "addr_street    0\n",
       "dtype: int64"
      ]
     },
     "execution_count": 14,
     "metadata": {},
     "output_type": "execute_result"
    }
   ],
   "source": [
    "(unique_property== 'NA').sum() # check NA"
   ]
  },
  {
   "cell_type": "markdown",
   "id": "426982c0",
   "metadata": {},
   "source": [
    "# Find suburb of each property"
   ]
  },
  {
   "cell_type": "markdown",
   "id": "74de3916",
   "metadata": {},
   "source": [
    "## Clean suburb file"
   ]
  },
  {
   "cell_type": "code",
   "execution_count": 15,
   "id": "4ee8ccb0",
   "metadata": {},
   "outputs": [],
   "source": [
    "import geopandas as gpd"
   ]
  },
  {
   "cell_type": "code",
   "execution_count": 16,
   "id": "92cb1bbd",
   "metadata": {},
   "outputs": [],
   "source": [
    "sub_path = \"supplementary_data/Vic_suburb_boundary/VIC_LOCALITY_POLYGON_shp.shp\""
   ]
  },
  {
   "cell_type": "code",
   "execution_count": 17,
   "id": "42a3ffb4",
   "metadata": {},
   "outputs": [
    {
     "data": {
      "text/html": [
       "<div>\n",
       "<style scoped>\n",
       "    .dataframe tbody tr th:only-of-type {\n",
       "        vertical-align: middle;\n",
       "    }\n",
       "\n",
       "    .dataframe tbody tr th {\n",
       "        vertical-align: top;\n",
       "    }\n",
       "\n",
       "    .dataframe thead th {\n",
       "        text-align: right;\n",
       "    }\n",
       "</style>\n",
       "<table border=\"1\" class=\"dataframe\">\n",
       "  <thead>\n",
       "    <tr style=\"text-align: right;\">\n",
       "      <th></th>\n",
       "      <th>LC_PLY_PID</th>\n",
       "      <th>DT_CREATE</th>\n",
       "      <th>DT_RETIRE</th>\n",
       "      <th>LOC_PID</th>\n",
       "      <th>VIC_LOCALI</th>\n",
       "      <th>VIC_LOCA_1</th>\n",
       "      <th>VIC_LOCA_2</th>\n",
       "      <th>VIC_LOCA_3</th>\n",
       "      <th>VIC_LOCA_4</th>\n",
       "      <th>VIC_LOCA_5</th>\n",
       "      <th>VIC_LOCA_6</th>\n",
       "      <th>VIC_LOCA_7</th>\n",
       "      <th>geometry</th>\n",
       "    </tr>\n",
       "  </thead>\n",
       "  <tbody>\n",
       "    <tr>\n",
       "      <th>0</th>\n",
       "      <td>6670</td>\n",
       "      <td>2011-08-31</td>\n",
       "      <td>None</td>\n",
       "      <td>VIC2615</td>\n",
       "      <td>2012-04-27</td>\n",
       "      <td>None</td>\n",
       "      <td>UNDERBOOL</td>\n",
       "      <td>None</td>\n",
       "      <td>None</td>\n",
       "      <td>G</td>\n",
       "      <td>None</td>\n",
       "      <td>2</td>\n",
       "      <td>POLYGON ((141.74552 -35.07229, 141.74552 -35.0...</td>\n",
       "    </tr>\n",
       "    <tr>\n",
       "      <th>1</th>\n",
       "      <td>6671</td>\n",
       "      <td>2011-08-31</td>\n",
       "      <td>None</td>\n",
       "      <td>VIC1986</td>\n",
       "      <td>2012-04-27</td>\n",
       "      <td>None</td>\n",
       "      <td>NURRAN</td>\n",
       "      <td>None</td>\n",
       "      <td>None</td>\n",
       "      <td>G</td>\n",
       "      <td>None</td>\n",
       "      <td>2</td>\n",
       "      <td>POLYGON ((148.66877 -37.39571, 148.66876 -37.3...</td>\n",
       "    </tr>\n",
       "  </tbody>\n",
       "</table>\n",
       "</div>"
      ],
      "text/plain": [
       "  LC_PLY_PID   DT_CREATE DT_RETIRE  LOC_PID  VIC_LOCALI VIC_LOCA_1 VIC_LOCA_2  \\\n",
       "0       6670  2011-08-31      None  VIC2615  2012-04-27       None  UNDERBOOL   \n",
       "1       6671  2011-08-31      None  VIC1986  2012-04-27       None     NURRAN   \n",
       "\n",
       "  VIC_LOCA_3 VIC_LOCA_4 VIC_LOCA_5 VIC_LOCA_6 VIC_LOCA_7  \\\n",
       "0       None       None          G       None          2   \n",
       "1       None       None          G       None          2   \n",
       "\n",
       "                                            geometry  \n",
       "0  POLYGON ((141.74552 -35.07229, 141.74552 -35.0...  \n",
       "1  POLYGON ((148.66877 -37.39571, 148.66876 -37.3...  "
      ]
     },
     "execution_count": 17,
     "metadata": {},
     "output_type": "execute_result"
    }
   ],
   "source": [
    "sub = gpd.read_file(sub_path)\n",
    "sub.head(2)"
   ]
  },
  {
   "cell_type": "code",
   "execution_count": 18,
   "id": "611e9248",
   "metadata": {},
   "outputs": [
    {
     "name": "stderr",
     "output_type": "stream",
     "text": [
      "/var/folders/hn/mgkfr3qd4652k_9wn776wn4m0000gn/T/ipykernel_7500/993301998.py:2: SettingWithCopyWarning: \n",
      "A value is trying to be set on a copy of a slice from a DataFrame\n",
      "\n",
      "See the caveats in the documentation: https://pandas.pydata.org/pandas-docs/stable/user_guide/indexing.html#returning-a-view-versus-a-copy\n",
      "  subclean.rename(columns={'VIC_LOCA_2':'suburb'}, inplace=True) # change column name\n"
     ]
    }
   ],
   "source": [
    "subclean = sub[['VIC_LOCA_2','geometry']]\n",
    "subclean.rename(columns={'VIC_LOCA_2':'suburb'}, inplace=True) # change column name"
   ]
  },
  {
   "cell_type": "code",
   "execution_count": 19,
   "id": "0e229129",
   "metadata": {},
   "outputs": [
    {
     "data": {
      "text/html": [
       "<div>\n",
       "<style scoped>\n",
       "    .dataframe tbody tr th:only-of-type {\n",
       "        vertical-align: middle;\n",
       "    }\n",
       "\n",
       "    .dataframe tbody tr th {\n",
       "        vertical-align: top;\n",
       "    }\n",
       "\n",
       "    .dataframe thead th {\n",
       "        text-align: right;\n",
       "    }\n",
       "</style>\n",
       "<table border=\"1\" class=\"dataframe\">\n",
       "  <thead>\n",
       "    <tr style=\"text-align: right;\">\n",
       "      <th></th>\n",
       "      <th>suburb</th>\n",
       "      <th>geometry</th>\n",
       "    </tr>\n",
       "  </thead>\n",
       "  <tbody>\n",
       "    <tr>\n",
       "      <th>0</th>\n",
       "      <td>UNDERBOOL</td>\n",
       "      <td>POLYGON ((141.74552 -35.07229, 141.74552 -35.0...</td>\n",
       "    </tr>\n",
       "    <tr>\n",
       "      <th>1</th>\n",
       "      <td>NURRAN</td>\n",
       "      <td>POLYGON ((148.66877 -37.39571, 148.66876 -37.3...</td>\n",
       "    </tr>\n",
       "  </tbody>\n",
       "</table>\n",
       "</div>"
      ],
      "text/plain": [
       "      suburb                                           geometry\n",
       "0  UNDERBOOL  POLYGON ((141.74552 -35.07229, 141.74552 -35.0...\n",
       "1     NURRAN  POLYGON ((148.66877 -37.39571, 148.66876 -37.3..."
      ]
     },
     "execution_count": 19,
     "metadata": {},
     "output_type": "execute_result"
    }
   ],
   "source": [
    "subclean.head(2)"
   ]
  },
  {
   "cell_type": "markdown",
   "id": "63957c7a",
   "metadata": {},
   "source": [
    "## Find suburb of each property"
   ]
  },
  {
   "cell_type": "markdown",
   "id": "7d80adac",
   "metadata": {},
   "source": [
    "Need to find suburb as the stations"
   ]
  },
  {
   "cell_type": "code",
   "execution_count": 20,
   "id": "aaf6b07b",
   "metadata": {},
   "outputs": [],
   "source": [
    "from shapely.geometry import Point # use for plot in geometry"
   ]
  },
  {
   "cell_type": "code",
   "execution_count": 21,
   "id": "986c553d",
   "metadata": {},
   "outputs": [],
   "source": [
    "def findsuburbname(long,lat):\n",
    "    '''\n",
    "    use the location of property to find suburb\n",
    "    '''\n",
    "    \n",
    "    proplocation = Point(long,lat)\n",
    "    # locate where True(geo contain proplocation) then get suburb\n",
    "    try:\n",
    "        suburb = subclean.loc[subclean['geometry'].contains(proplocation), 'suburb'].values[0] \n",
    "    except:\n",
    "        suburb = \"NA\"\n",
    "    \n",
    "    return suburb"
   ]
  },
  {
   "cell_type": "code",
   "execution_count": 22,
   "id": "70a9429c",
   "metadata": {},
   "outputs": [],
   "source": [
    "unique_property['suburb'] = unique_property.apply(lambda x: findsuburbname(x['lng'],x['lat']), axis =1)"
   ]
  },
  {
   "cell_type": "code",
   "execution_count": 23,
   "id": "480219c7",
   "metadata": {},
   "outputs": [
    {
     "data": {
      "text/html": [
       "<div>\n",
       "<style scoped>\n",
       "    .dataframe tbody tr th:only-of-type {\n",
       "        vertical-align: middle;\n",
       "    }\n",
       "\n",
       "    .dataframe tbody tr th {\n",
       "        vertical-align: top;\n",
       "    }\n",
       "\n",
       "    .dataframe thead th {\n",
       "        text-align: right;\n",
       "    }\n",
       "</style>\n",
       "<table border=\"1\" class=\"dataframe\">\n",
       "  <thead>\n",
       "    <tr style=\"text-align: right;\">\n",
       "      <th></th>\n",
       "      <th>property_id</th>\n",
       "      <th>lat</th>\n",
       "      <th>lng</th>\n",
       "      <th>addr_street</th>\n",
       "      <th>suburb</th>\n",
       "    </tr>\n",
       "  </thead>\n",
       "  <tbody>\n",
       "    <tr>\n",
       "      <th>0</th>\n",
       "      <td>53857</td>\n",
       "      <td>-37.830341</td>\n",
       "      <td>144.994781</td>\n",
       "      <td>86 Balmain Street</td>\n",
       "      <td>CREMORNE</td>\n",
       "    </tr>\n",
       "    <tr>\n",
       "      <th>1</th>\n",
       "      <td>68409</td>\n",
       "      <td>-37.856339</td>\n",
       "      <td>145.022407</td>\n",
       "      <td>25 Clarendon Street</td>\n",
       "      <td>ARMADALE</td>\n",
       "    </tr>\n",
       "  </tbody>\n",
       "</table>\n",
       "</div>"
      ],
      "text/plain": [
       "   property_id        lat         lng          addr_street    suburb\n",
       "0        53857 -37.830341  144.994781    86 Balmain Street  CREMORNE\n",
       "1        68409 -37.856339  145.022407  25 Clarendon Street  ARMADALE"
      ]
     },
     "execution_count": 23,
     "metadata": {},
     "output_type": "execute_result"
    }
   ],
   "source": [
    "unique_property.head(2)"
   ]
  },
  {
   "cell_type": "code",
   "execution_count": null,
   "id": "7e6f2642",
   "metadata": {},
   "outputs": [],
   "source": [
    "unique_property.shape"
   ]
  },
  {
   "cell_type": "markdown",
   "id": "ac165806",
   "metadata": {},
   "source": [
    "# Fill LGA"
   ]
  },
  {
   "cell_type": "markdown",
   "id": "611cf25c",
   "metadata": {},
   "source": [
    "## Extract LGA from pdf"
   ]
  },
  {
   "cell_type": "code",
   "execution_count": 24,
   "id": "cfdd0e7f",
   "metadata": {},
   "outputs": [],
   "source": [
    "lga_path = \"supplementary_data/Lga_to_suburb.pdf\""
   ]
  },
  {
   "cell_type": "code",
   "execution_count": 25,
   "id": "db093a99",
   "metadata": {},
   "outputs": [
    {
     "data": {
      "text/plain": [
       "\"BANYULE : ['Abbotsford', 'Airport West', 'Albert Park', 'Alphington'] \\n\\nBRIMBANK : ['Altona', 'Altona North', 'Armadale', 'Ascot Vale'] \\n\\nDAREBIN : ['Ashburton', 'Ashwood', 'Avondale Heights', 'Balacl\""
      ]
     },
     "execution_count": 25,
     "metadata": {},
     "output_type": "execute_result"
    }
   ],
   "source": [
    "from pdfminer.high_level import extract_text # for extract pdf text from pdfminer.six\n",
    "lga = extract_text(lga_path)\n",
    "lga[:200]"
   ]
  },
  {
   "cell_type": "markdown",
   "id": "d8bc031a",
   "metadata": {},
   "source": [
    "Extract each LGA and its suburbs with RegEX"
   ]
  },
  {
   "cell_type": "code",
   "execution_count": 26,
   "id": "0bc99909",
   "metadata": {},
   "outputs": [],
   "source": [
    "import re # for regex\n",
    "lgasub_patt =r'[A-Z ]+ ?: ?\\[[^\\]]+\\]'  # From first character to closing bracket"
   ]
  },
  {
   "cell_type": "code",
   "execution_count": 27,
   "id": "bcb9f078",
   "metadata": {},
   "outputs": [
    {
     "data": {
      "text/plain": [
       "[\"BANYULE : ['Abbotsford', 'Airport West', 'Albert Park', 'Alphington']\",\n",
       " \"BRIMBANK : ['Altona', 'Altona North', 'Armadale', 'Ascot Vale']\",\n",
       " \"DAREBIN : ['Ashburton', 'Ashwood', 'Avondale Heights', 'Balaclava']\"]"
      ]
     },
     "execution_count": 27,
     "metadata": {},
     "output_type": "execute_result"
    }
   ],
   "source": [
    "lgaandsub = re.findall(lgasub_patt, lga) \n",
    "lgaandsub[0:3]"
   ]
  },
  {
   "cell_type": "markdown",
   "id": "0b61d602",
   "metadata": {},
   "source": [
    "The information is in string - convert to dict to work with easier"
   ]
  },
  {
   "cell_type": "code",
   "execution_count": 28,
   "id": "4c611eae",
   "metadata": {},
   "outputs": [],
   "source": [
    "import ast # for convert to appropriate type\n",
    "\n",
    "def stringtodict(lgasub):\n",
    "\n",
    "    '''\n",
    "    To convert string of LGA and subs to dict, identify key and  value \n",
    "    as the string is not in actual form of dict (no prenthesis) or list (has colon)\n",
    "    '''\n",
    "    k,v = lgasub.split(\":\",1) \n",
    "    key = k.strip()\n",
    "    value = ast.literal_eval(v.strip())\n",
    "\n",
    "    return {key:value}"
   ]
  },
  {
   "cell_type": "code",
   "execution_count": 29,
   "id": "5039bc38",
   "metadata": {},
   "outputs": [
    {
     "data": {
      "text/plain": [
       "['Abbotsford', 'Airport West', 'Albert Park', 'Alphington']"
      ]
     },
     "execution_count": 29,
     "metadata": {},
     "output_type": "execute_result"
    }
   ],
   "source": [
    "lga_sub = {key:value for x in lgaandsub for key,value in stringtodict(x).items()}\n",
    "lga_sub[\"BANYULE\"]"
   ]
  },
  {
   "cell_type": "code",
   "execution_count": null,
   "id": "ef04cfc9",
   "metadata": {},
   "outputs": [],
   "source": [
    "def findlga(suburb):\n",
    "    \"\"\"\n",
    "    if suburb is match, return lga\n",
    "    \"\"\"\n",
    "    for k,v in lga_sub.items(): # in each set of suburbs of LGA\n",
    "        for i in v: # in each suburb in the LGA\n",
    "            if suburb == i.upper(): # if suburb matched with suburb in the set\n",
    "                 return k.upper() # lga is k\n",
    "    return \"NA\""
   ]
  },
  {
   "cell_type": "code",
   "execution_count": null,
   "id": "d6972376",
   "metadata": {},
   "outputs": [],
   "source": [
    "findlga('ARMADALE')"
   ]
  },
  {
   "cell_type": "code",
   "execution_count": 31,
   "id": "1ef59a29",
   "metadata": {},
   "outputs": [],
   "source": [
    "unique_property['LGA'] = unique_property['suburb'].apply(findlga)"
   ]
  },
  {
   "cell_type": "code",
   "execution_count": null,
   "id": "20254934",
   "metadata": {},
   "outputs": [],
   "source": [
    "unique_property.head(2)"
   ]
  },
  {
   "cell_type": "markdown",
   "id": "7b616445",
   "metadata": {},
   "source": [
    "# Find closest station"
   ]
  },
  {
   "cell_type": "code",
   "execution_count": 32,
   "id": "316b095f",
   "metadata": {},
   "outputs": [],
   "source": [
    "stoppath = \"supplementary_data/Vic_GTFS_data/metropolitan/stops.txt\""
   ]
  },
  {
   "cell_type": "code",
   "execution_count": 34,
   "id": "808afe4b",
   "metadata": {},
   "outputs": [],
   "source": [
    "with open(stoppath,\"r\") as stops:\n",
    "    s = stops.readlines()"
   ]
  },
  {
   "cell_type": "code",
   "execution_count": 39,
   "id": "0dce8a5b",
   "metadata": {},
   "outputs": [
    {
     "data": {
      "text/plain": [
       "['\\ufeffstop_id,stop_name,stop_short_name,stop_lat,stop_lon\\n',\n",
       " '\"15351\",\"Sunbury Railway Station\",\"Sunbury\",\"-37.5790909705787\",\"144.727318781329\"\\n',\n",
       " '\"15353\",\"Diggers Rest Railway Station\",\"Diggers Rest\",\"-37.6270165149357\",\"144.719922441113\"\\n']"
      ]
     },
     "execution_count": 39,
     "metadata": {},
     "output_type": "execute_result"
    }
   ],
   "source": [
    "s[0:3]"
   ]
  },
  {
   "cell_type": "code",
   "execution_count": null,
   "id": "74f508c0",
   "metadata": {},
   "outputs": [],
   "source": [
    "allstop = s[1:] # remove header"
   ]
  },
  {
   "cell_type": "code",
   "execution_count": 40,
   "id": "629fd045",
   "metadata": {},
   "outputs": [],
   "source": [
    "allstop_clean = [x.replace(\"\\n\",'') for x in allstop] # remove newling symbol"
   ]
  },
  {
   "cell_type": "code",
   "execution_count": 49,
   "id": "b907bbb0",
   "metadata": {},
   "outputs": [],
   "source": [
    "# make each value convert to suitable data type and contain in a list\n",
    "stopsub = [list(ast.literal_eval(x)) for x in allstop_clean]"
   ]
  },
  {
   "cell_type": "code",
   "execution_count": 51,
   "id": "5219f8ad",
   "metadata": {},
   "outputs": [
    {
     "data": {
      "text/plain": [
       "[['15351',\n",
       "  'Sunbury Railway Station',\n",
       "  'Sunbury',\n",
       "  '-37.5790909705787',\n",
       "  '144.727318781329'],\n",
       " ['15353',\n",
       "  'Diggers Rest Railway Station',\n",
       "  'Diggers Rest',\n",
       "  '-37.6270165149357',\n",
       "  '144.719922441113']]"
      ]
     },
     "execution_count": 51,
     "metadata": {},
     "output_type": "execute_result"
    }
   ],
   "source": [
    "stopsub[0:2]"
   ]
  },
  {
   "cell_type": "code",
   "execution_count": 55,
   "id": "d4810c26",
   "metadata": {},
   "outputs": [],
   "source": [
    "stops_dict = {int(i[0]): {'station_name': i[1], \n",
    "                     'suburb': i[2], \n",
    "                     'lat': float(i[3]), \n",
    "                     'lng': float(i[4])} for i in stopsub}"
   ]
  },
  {
   "cell_type": "code",
   "execution_count": null,
   "id": "57d5c793",
   "metadata": {},
   "outputs": [],
   "source": []
  }
 ],
 "metadata": {
  "kernelspec": {
   "display_name": "base",
   "language": "python",
   "name": "python3"
  },
  "language_info": {
   "codemirror_mode": {
    "name": "ipython",
    "version": 3
   },
   "file_extension": ".py",
   "mimetype": "text/x-python",
   "name": "python",
   "nbconvert_exporter": "python",
   "pygments_lexer": "ipython3",
   "version": "3.9.13"
  }
 },
 "nbformat": 4,
 "nbformat_minor": 5
}
