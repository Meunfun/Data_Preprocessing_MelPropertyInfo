{
 "cells": [
  {
   "cell_type": "markdown",
   "id": "3a710cef",
   "metadata": {},
   "source": [
    "This project is to find each preoperty information.\n",
    "1. if the closest station has direct line to Melbourne Central during weekday from 7 a.m. to 9 a.m. or not. \n",
    "2. How long would it take (average).\n",
    "3. number of houses in each suburb.\n",
    "4. number of units in each suburb (condo/apartment)\n",
    "5. municipality of the property suburb(LGA).\n",
    "6. Percentage of the Australian-born population in the property suburb.\n",
    "7. median income of the population in the property suburb \n",
    "8. population in the property suburb \n"
   ]
  },
  {
   "cell_type": "code",
   "execution_count": 1,
   "id": "f5d8b909",
   "metadata": {},
   "outputs": [],
   "source": [
    "# for all library\n",
    "import pandas as pd \n",
    "import geopandas as gpd\n",
    "from shapely.geometry import Point # use for plot in geometry\n",
    "from pdfminer.high_level import extract_text # for extract pdf text from pdfminer.six\n",
    "import re # for regex\n",
    "import ast # for convert to appropriate type\n",
    "import geopy.distance # for distance calculation - property to station\n",
    "\n"
   ]
  },
  {
   "cell_type": "markdown",
   "id": "77e85cce",
   "metadata": {},
   "source": [
    "# Extract data from files"
   ]
  },
  {
   "cell_type": "code",
   "execution_count": 2,
   "id": "d3891735",
   "metadata": {},
   "outputs": [],
   "source": [
    "import pandas as pd \n",
    "jpath = 'data/house1.json' # path for json file\n",
    "xpath = 'data/house2.xml' # path for xml file"
   ]
  },
  {
   "cell_type": "markdown",
   "id": "2c4c448f",
   "metadata": {},
   "source": [
    "## JSON DATA"
   ]
  },
  {
   "cell_type": "code",
   "execution_count": 3,
   "id": "a382f50d",
   "metadata": {},
   "outputs": [],
   "source": [
    "try:\n",
    "    j = pd.read_json(jpath) # use read json to parse json file\n",
    "except Exception as e:\n",
    "    print(e)"
   ]
  },
  {
   "cell_type": "code",
   "execution_count": 4,
   "id": "20083049",
   "metadata": {},
   "outputs": [
    {
     "data": {
      "text/html": [
       "<div>\n",
       "<style scoped>\n",
       "    .dataframe tbody tr th:only-of-type {\n",
       "        vertical-align: middle;\n",
       "    }\n",
       "\n",
       "    .dataframe tbody tr th {\n",
       "        vertical-align: top;\n",
       "    }\n",
       "\n",
       "    .dataframe thead th {\n",
       "        text-align: right;\n",
       "    }\n",
       "</style>\n",
       "<table border=\"1\" class=\"dataframe\">\n",
       "  <thead>\n",
       "    <tr style=\"text-align: right;\">\n",
       "      <th></th>\n",
       "      <th>property_id</th>\n",
       "      <th>lat</th>\n",
       "      <th>lng</th>\n",
       "      <th>addr_street</th>\n",
       "    </tr>\n",
       "  </thead>\n",
       "  <tbody>\n",
       "    <tr>\n",
       "      <th>0</th>\n",
       "      <td>29654</td>\n",
       "      <td>-37.783257</td>\n",
       "      <td>145.000198</td>\n",
       "      <td>2 Short Street</td>\n",
       "    </tr>\n",
       "    <tr>\n",
       "      <th>1</th>\n",
       "      <td>84314</td>\n",
       "      <td>-37.851406</td>\n",
       "      <td>145.003433</td>\n",
       "      <td>7 Pridham Street</td>\n",
       "    </tr>\n",
       "  </tbody>\n",
       "</table>\n",
       "</div>"
      ],
      "text/plain": [
       "   property_id        lat         lng       addr_street\n",
       "0        29654 -37.783257  145.000198    2 Short Street\n",
       "1        84314 -37.851406  145.003433  7 Pridham Street"
      ]
     },
     "execution_count": 4,
     "metadata": {},
     "output_type": "execute_result"
    }
   ],
   "source": [
    "j.head(2)"
   ]
  },
  {
   "cell_type": "markdown",
   "id": "f621889f",
   "metadata": {},
   "source": [
    "## XML DATA"
   ]
  },
  {
   "cell_type": "code",
   "execution_count": 5,
   "id": "25e7eb84",
   "metadata": {},
   "outputs": [
    {
     "name": "stdout",
     "output_type": "stream",
     "text": [
      "Start tag expected, '<' not found, line 1, column 1 (<string>, line 1)\n"
     ]
    }
   ],
   "source": [
    "try:\n",
    "    x = pd.read_xml('xpath')\n",
    "except Exception as e:\n",
    "    print(e)"
   ]
  },
  {
   "cell_type": "markdown",
   "id": "1f4ba5f9",
   "metadata": {},
   "source": [
    "### Fix XML File"
   ]
  },
  {
   "cell_type": "markdown",
   "id": "825048b0",
   "metadata": {},
   "source": [
    "Check XML file"
   ]
  },
  {
   "cell_type": "code",
   "execution_count": 6,
   "id": "22229afb",
   "metadata": {},
   "outputs": [
    {
     "name": "stdout",
     "output_type": "stream",
     "text": [
      "<property>\n",
      "  <property_id>53857</property_id>\n",
      "  <lat>-37.83034134</lat>\n",
      "  <lng>144.9947815</lng>\n",
      "  <addr_street>86 Balmain Street</addr_street>\n",
      "</property>\n",
      "<property>\n",
      "  <property_id>68409</property_id>\n",
      "  <lat>-37.856339</lat>\n",
      "  <lng>145.02240700000004</lng>\n",
      "  <addr_street>25 Clarendon Street</addr_s t>-37.741972</lat>\n",
      "  <lng>145.018771</lng>\n",
      "  <addr_street>126 Gower Street</addr_street>\n",
      "</property>\n"
     ]
    }
   ],
   "source": [
    "with open(xpath,'r') as file:\n",
    "    xfile = file.read()  # all xml\n",
    "print(xfile[0:300],\n",
    "xfile[-100:]) "
   ]
  },
  {
   "cell_type": "markdown",
   "id": "d8296375",
   "metadata": {},
   "source": [
    "It did not have wrapper "
   ]
  },
  {
   "cell_type": "code",
   "execution_count": 7,
   "id": "90719e75",
   "metadata": {},
   "outputs": [],
   "source": [
    "x = \"<property_list>\" + xfile + \"</property_list>\"  # add wrapper"
   ]
  },
  {
   "cell_type": "code",
   "execution_count": 8,
   "id": "9f6dcf96",
   "metadata": {},
   "outputs": [
    {
     "name": "stdout",
     "output_type": "stream",
     "text": [
      "<property_list><property>\n",
      "  <property_id>53857</property_id>\n",
      "  <lat>-37.83034134</lat>\n",
      "  <lng>144.9947815</lng>\n",
      "  <addr_street>86 Balmain Street</addr_street>\n",
      "</property>\n",
      "<property>\n",
      "  <property_id>684 Street</addr_street>\n",
      "</property>\n",
      "<property>\n",
      "  <property_id>31804</property_id>\n",
      "  <lat>-37.741972</lat>\n",
      "  <lng>145.018771</lng>\n",
      "  <addr_street>126 Gower Street</addr_street>\n",
      "</property></property_list>\n"
     ]
    }
   ],
   "source": [
    "print(x[0:200],\n",
    "x[-200:])"
   ]
  },
  {
   "cell_type": "code",
   "execution_count": 9,
   "id": "8d834855",
   "metadata": {},
   "outputs": [
    {
     "name": "stdout",
     "output_type": "stream",
     "text": [
      "xmlParseEntityRef: no name, line 3107, column 18 (<string>, line 3107)\n"
     ]
    }
   ],
   "source": [
    "try:\n",
    "    x = pd.read_xml(x)\n",
    "except Exception as e:\n",
    "    print(e)"
   ]
  },
  {
   "cell_type": "markdown",
   "id": "bbb3e7f1",
   "metadata": {},
   "source": [
    "\n",
    "Still have syntax error: no name, line 3107, column 18.\n",
    "So check line 3107 in the initial file"
   ]
  },
  {
   "cell_type": "code",
   "execution_count": 10,
   "id": "cf87c693",
   "metadata": {},
   "outputs": [
    {
     "data": {
      "text/plain": [
       "'  <addr_street>2&3/17-19 Browning Street</addr_street>\\n'"
      ]
     },
     "execution_count": 10,
     "metadata": {},
     "output_type": "execute_result"
    }
   ],
   "source": [
    "# create list to access each line.\n",
    "with open(xpath, \"r\") as xl: # open the file again\n",
    "    alllines = xl.readlines() # use realines to make each line into element of list\n",
    "# access line 3107 as index 3106\n",
    "alllines[3106]"
   ]
  },
  {
   "cell_type": "markdown",
   "id": "00f8f897",
   "metadata": {},
   "source": [
    "***<** and **&** are strictly illegal in XML need to change to pre-defined entity*\n",
    "\n",
    "There are 5 pre-defined entity references in XML:\n",
    "|XML|Sign|Def|\n",
    "|----|----|---------|\n",
    "|\\&lt;|<|less than|\n",
    "|\\&gt;|>|greater than|\n",
    "|\\&amp;|&|ampersand|\n",
    "|\\&apos;|'|apostrophe|\n",
    "|\\&quot;|\"|quotation mark|\n",
    "\n",
    "ref : https://www.w3schools.com/xml/xml_syntax.asp"
   ]
  },
  {
   "cell_type": "code",
   "execution_count": 11,
   "id": "33da27b5",
   "metadata": {},
   "outputs": [],
   "source": [
    "x = x.replace(\"&\",\"&amp;\") # adjust to be XML sign"
   ]
  },
  {
   "cell_type": "code",
   "execution_count": 12,
   "id": "c89497cf",
   "metadata": {},
   "outputs": [],
   "source": [
    "try:\n",
    "    x = pd.read_xml(x)\n",
    "except Exception as e:\n",
    "    print(e)"
   ]
  },
  {
   "cell_type": "code",
   "execution_count": 13,
   "id": "3c930116",
   "metadata": {},
   "outputs": [
    {
     "data": {
      "text/html": [
       "<div>\n",
       "<style scoped>\n",
       "    .dataframe tbody tr th:only-of-type {\n",
       "        vertical-align: middle;\n",
       "    }\n",
       "\n",
       "    .dataframe tbody tr th {\n",
       "        vertical-align: top;\n",
       "    }\n",
       "\n",
       "    .dataframe thead th {\n",
       "        text-align: right;\n",
       "    }\n",
       "</style>\n",
       "<table border=\"1\" class=\"dataframe\">\n",
       "  <thead>\n",
       "    <tr style=\"text-align: right;\">\n",
       "      <th></th>\n",
       "      <th>property_id</th>\n",
       "      <th>lat</th>\n",
       "      <th>lng</th>\n",
       "      <th>addr_street</th>\n",
       "    </tr>\n",
       "  </thead>\n",
       "  <tbody>\n",
       "    <tr>\n",
       "      <th>0</th>\n",
       "      <td>53857</td>\n",
       "      <td>-37.830341</td>\n",
       "      <td>144.994781</td>\n",
       "      <td>86 Balmain Street</td>\n",
       "    </tr>\n",
       "    <tr>\n",
       "      <th>1</th>\n",
       "      <td>68409</td>\n",
       "      <td>-37.856339</td>\n",
       "      <td>145.022407</td>\n",
       "      <td>25 Clarendon Street</td>\n",
       "    </tr>\n",
       "  </tbody>\n",
       "</table>\n",
       "</div>"
      ],
      "text/plain": [
       "   property_id        lat         lng          addr_street\n",
       "0        53857 -37.830341  144.994781    86 Balmain Street\n",
       "1        68409 -37.856339  145.022407  25 Clarendon Street"
      ]
     },
     "execution_count": 13,
     "metadata": {},
     "output_type": "execute_result"
    }
   ],
   "source": [
    "x.head(2)"
   ]
  },
  {
   "cell_type": "markdown",
   "id": "6864df4a",
   "metadata": {},
   "source": [
    "## Combine JSON and XML df"
   ]
  },
  {
   "cell_type": "code",
   "execution_count": 14,
   "id": "f4de895e",
   "metadata": {},
   "outputs": [
    {
     "data": {
      "text/plain": [
       "((1015, 4), (1019, 4))"
      ]
     },
     "execution_count": 14,
     "metadata": {},
     "output_type": "execute_result"
    }
   ],
   "source": [
    "x.shape,j.shape"
   ]
  },
  {
   "cell_type": "code",
   "execution_count": 15,
   "id": "f57006d1",
   "metadata": {},
   "outputs": [
    {
     "data": {
      "text/plain": [
       "(2034, 4)"
      ]
     },
     "execution_count": 15,
     "metadata": {},
     "output_type": "execute_result"
    }
   ],
   "source": [
    "property = pd.concat([x,j], ignore_index=True) # combine file, index need to be re-running so ignore\n",
    "property.shape"
   ]
  },
  {
   "cell_type": "markdown",
   "id": "c4ca56c1",
   "metadata": {},
   "source": [
    "# Cleaning the combined file"
   ]
  },
  {
   "cell_type": "markdown",
   "id": "6e05be81",
   "metadata": {},
   "source": [
    "## check and manage duplicates"
   ]
  },
  {
   "cell_type": "markdown",
   "id": "d986c274",
   "metadata": {},
   "source": [
    "There is key column, property_id, which each property should have distince value. Therefore anchor in that column if have any duplicate, drop it out."
   ]
  },
  {
   "cell_type": "code",
   "execution_count": 16,
   "id": "f6d02c72",
   "metadata": {},
   "outputs": [],
   "source": [
    "unique_property = property.drop_duplicates(subset='property_id').copy() #copy from original list"
   ]
  },
  {
   "cell_type": "code",
   "execution_count": 17,
   "id": "442d3a23",
   "metadata": {},
   "outputs": [],
   "source": [
    "unique_property = unique_property.reset_index(drop=True) #reset index"
   ]
  },
  {
   "cell_type": "code",
   "execution_count": 18,
   "id": "a8441d14",
   "metadata": {},
   "outputs": [
    {
     "data": {
      "text/plain": [
       "(2012, 4)"
      ]
     },
     "execution_count": 18,
     "metadata": {},
     "output_type": "execute_result"
    }
   ],
   "source": [
    "unique_property.shape # remove 22 rowa"
   ]
  },
  {
   "cell_type": "code",
   "execution_count": 19,
   "id": "df36c61c",
   "metadata": {},
   "outputs": [
    {
     "data": {
      "text/html": [
       "<div>\n",
       "<style scoped>\n",
       "    .dataframe tbody tr th:only-of-type {\n",
       "        vertical-align: middle;\n",
       "    }\n",
       "\n",
       "    .dataframe tbody tr th {\n",
       "        vertical-align: top;\n",
       "    }\n",
       "\n",
       "    .dataframe thead th {\n",
       "        text-align: right;\n",
       "    }\n",
       "</style>\n",
       "<table border=\"1\" class=\"dataframe\">\n",
       "  <thead>\n",
       "    <tr style=\"text-align: right;\">\n",
       "      <th></th>\n",
       "      <th>property_id</th>\n",
       "      <th>lat</th>\n",
       "      <th>lng</th>\n",
       "      <th>addr_street</th>\n",
       "    </tr>\n",
       "  </thead>\n",
       "  <tbody>\n",
       "    <tr>\n",
       "      <th>0</th>\n",
       "      <td>53857</td>\n",
       "      <td>-37.830341</td>\n",
       "      <td>144.994781</td>\n",
       "      <td>86 Balmain Street</td>\n",
       "    </tr>\n",
       "    <tr>\n",
       "      <th>1</th>\n",
       "      <td>68409</td>\n",
       "      <td>-37.856339</td>\n",
       "      <td>145.022407</td>\n",
       "      <td>25 Clarendon Street</td>\n",
       "    </tr>\n",
       "  </tbody>\n",
       "</table>\n",
       "</div>"
      ],
      "text/plain": [
       "   property_id        lat         lng          addr_street\n",
       "0        53857 -37.830341  144.994781    86 Balmain Street\n",
       "1        68409 -37.856339  145.022407  25 Clarendon Street"
      ]
     },
     "execution_count": 19,
     "metadata": {},
     "output_type": "execute_result"
    }
   ],
   "source": [
    "unique_property.head(2)"
   ]
  },
  {
   "cell_type": "code",
   "execution_count": 20,
   "id": "16279a27",
   "metadata": {},
   "outputs": [
    {
     "data": {
      "text/plain": [
       "property_id    0\n",
       "lat            0\n",
       "lng            0\n",
       "addr_street    0\n",
       "dtype: int64"
      ]
     },
     "execution_count": 20,
     "metadata": {},
     "output_type": "execute_result"
    }
   ],
   "source": [
    "(unique_property== 'NA').sum() # check NA"
   ]
  },
  {
   "cell_type": "markdown",
   "id": "426982c0",
   "metadata": {},
   "source": [
    "# Find suburb of each property"
   ]
  },
  {
   "cell_type": "markdown",
   "id": "74de3916",
   "metadata": {},
   "source": [
    "## Clean suburb file"
   ]
  },
  {
   "cell_type": "code",
   "execution_count": 21,
   "id": "92cb1bbd",
   "metadata": {},
   "outputs": [],
   "source": [
    "import geopandas as gpd"
   ]
  },
  {
   "cell_type": "code",
   "execution_count": 22,
   "id": "03814af7",
   "metadata": {},
   "outputs": [],
   "source": [
    "sub_path = \"supplementary_data/Vic_suburb_boundary/VIC_LOCALITY_POLYGON_shp.shp\"\n",
    "\n",
    "try:\n",
    "    sub = gpd.read_file(sub_path)\n",
    "except Exception as e:\n",
    "    print(e)"
   ]
  },
  {
   "cell_type": "code",
   "execution_count": 23,
   "id": "42a3ffb4",
   "metadata": {},
   "outputs": [
    {
     "data": {
      "text/html": [
       "<div>\n",
       "<style scoped>\n",
       "    .dataframe tbody tr th:only-of-type {\n",
       "        vertical-align: middle;\n",
       "    }\n",
       "\n",
       "    .dataframe tbody tr th {\n",
       "        vertical-align: top;\n",
       "    }\n",
       "\n",
       "    .dataframe thead th {\n",
       "        text-align: right;\n",
       "    }\n",
       "</style>\n",
       "<table border=\"1\" class=\"dataframe\">\n",
       "  <thead>\n",
       "    <tr style=\"text-align: right;\">\n",
       "      <th></th>\n",
       "      <th>LC_PLY_PID</th>\n",
       "      <th>DT_CREATE</th>\n",
       "      <th>DT_RETIRE</th>\n",
       "      <th>LOC_PID</th>\n",
       "      <th>VIC_LOCALI</th>\n",
       "      <th>VIC_LOCA_1</th>\n",
       "      <th>VIC_LOCA_2</th>\n",
       "      <th>VIC_LOCA_3</th>\n",
       "      <th>VIC_LOCA_4</th>\n",
       "      <th>VIC_LOCA_5</th>\n",
       "      <th>VIC_LOCA_6</th>\n",
       "      <th>VIC_LOCA_7</th>\n",
       "      <th>geometry</th>\n",
       "    </tr>\n",
       "  </thead>\n",
       "  <tbody>\n",
       "    <tr>\n",
       "      <th>0</th>\n",
       "      <td>6670</td>\n",
       "      <td>2011-08-31</td>\n",
       "      <td>None</td>\n",
       "      <td>VIC2615</td>\n",
       "      <td>2012-04-27</td>\n",
       "      <td>None</td>\n",
       "      <td>UNDERBOOL</td>\n",
       "      <td>None</td>\n",
       "      <td>None</td>\n",
       "      <td>G</td>\n",
       "      <td>None</td>\n",
       "      <td>2</td>\n",
       "      <td>POLYGON ((141.74552 -35.07229, 141.74552 -35.0...</td>\n",
       "    </tr>\n",
       "    <tr>\n",
       "      <th>1</th>\n",
       "      <td>6671</td>\n",
       "      <td>2011-08-31</td>\n",
       "      <td>None</td>\n",
       "      <td>VIC1986</td>\n",
       "      <td>2012-04-27</td>\n",
       "      <td>None</td>\n",
       "      <td>NURRAN</td>\n",
       "      <td>None</td>\n",
       "      <td>None</td>\n",
       "      <td>G</td>\n",
       "      <td>None</td>\n",
       "      <td>2</td>\n",
       "      <td>POLYGON ((148.66877 -37.39571, 148.66876 -37.3...</td>\n",
       "    </tr>\n",
       "  </tbody>\n",
       "</table>\n",
       "</div>"
      ],
      "text/plain": [
       "  LC_PLY_PID   DT_CREATE DT_RETIRE  LOC_PID  VIC_LOCALI VIC_LOCA_1 VIC_LOCA_2  \\\n",
       "0       6670  2011-08-31      None  VIC2615  2012-04-27       None  UNDERBOOL   \n",
       "1       6671  2011-08-31      None  VIC1986  2012-04-27       None     NURRAN   \n",
       "\n",
       "  VIC_LOCA_3 VIC_LOCA_4 VIC_LOCA_5 VIC_LOCA_6 VIC_LOCA_7  \\\n",
       "0       None       None          G       None          2   \n",
       "1       None       None          G       None          2   \n",
       "\n",
       "                                            geometry  \n",
       "0  POLYGON ((141.74552 -35.07229, 141.74552 -35.0...  \n",
       "1  POLYGON ((148.66877 -37.39571, 148.66876 -37.3...  "
      ]
     },
     "execution_count": 23,
     "metadata": {},
     "output_type": "execute_result"
    }
   ],
   "source": [
    "sub.head(2)"
   ]
  },
  {
   "cell_type": "code",
   "execution_count": 24,
   "id": "611e9248",
   "metadata": {},
   "outputs": [
    {
     "name": "stderr",
     "output_type": "stream",
     "text": [
      "/var/folders/hn/mgkfr3qd4652k_9wn776wn4m0000gn/T/ipykernel_10567/1973556953.py:2: SettingWithCopyWarning: \n",
      "A value is trying to be set on a copy of a slice from a DataFrame\n",
      "\n",
      "See the caveats in the documentation: https://pandas.pydata.org/pandas-docs/stable/user_guide/indexing.html#returning-a-view-versus-a-copy\n",
      "  subclean.rename(columns={'VIC_LOCA_2':'suburb'}, inplace=True) # change column name\n"
     ]
    },
    {
     "data": {
      "text/html": [
       "<div>\n",
       "<style scoped>\n",
       "    .dataframe tbody tr th:only-of-type {\n",
       "        vertical-align: middle;\n",
       "    }\n",
       "\n",
       "    .dataframe tbody tr th {\n",
       "        vertical-align: top;\n",
       "    }\n",
       "\n",
       "    .dataframe thead th {\n",
       "        text-align: right;\n",
       "    }\n",
       "</style>\n",
       "<table border=\"1\" class=\"dataframe\">\n",
       "  <thead>\n",
       "    <tr style=\"text-align: right;\">\n",
       "      <th></th>\n",
       "      <th>suburb</th>\n",
       "      <th>geometry</th>\n",
       "    </tr>\n",
       "  </thead>\n",
       "  <tbody>\n",
       "    <tr>\n",
       "      <th>0</th>\n",
       "      <td>UNDERBOOL</td>\n",
       "      <td>POLYGON ((141.74552 -35.07229, 141.74552 -35.0...</td>\n",
       "    </tr>\n",
       "    <tr>\n",
       "      <th>1</th>\n",
       "      <td>NURRAN</td>\n",
       "      <td>POLYGON ((148.66877 -37.39571, 148.66876 -37.3...</td>\n",
       "    </tr>\n",
       "  </tbody>\n",
       "</table>\n",
       "</div>"
      ],
      "text/plain": [
       "      suburb                                           geometry\n",
       "0  UNDERBOOL  POLYGON ((141.74552 -35.07229, 141.74552 -35.0...\n",
       "1     NURRAN  POLYGON ((148.66877 -37.39571, 148.66876 -37.3..."
      ]
     },
     "execution_count": 24,
     "metadata": {},
     "output_type": "execute_result"
    }
   ],
   "source": [
    "subclean = sub[['VIC_LOCA_2','geometry']] # select only needed column\n",
    "subclean.rename(columns={'VIC_LOCA_2':'suburb'}, inplace=True) # change column name\n",
    "subclean.head(2)"
   ]
  },
  {
   "cell_type": "markdown",
   "id": "63957c7a",
   "metadata": {},
   "source": [
    "## Find suburb of each property"
   ]
  },
  {
   "cell_type": "markdown",
   "id": "7d80adac",
   "metadata": {},
   "source": [
    "Need to find suburb as the stations"
   ]
  },
  {
   "cell_type": "code",
   "execution_count": 25,
   "id": "aaf6b07b",
   "metadata": {},
   "outputs": [],
   "source": [
    "from shapely.geometry import Point # use for plot in geometry"
   ]
  },
  {
   "cell_type": "code",
   "execution_count": 26,
   "id": "986c553d",
   "metadata": {},
   "outputs": [],
   "source": [
    "def findsuburbname(long,lat):\n",
    "    '''\n",
    "    use the location of property to find suburb\n",
    "    '''\n",
    "    \n",
    "    proplocation = Point(long,lat)\n",
    "    # locate where True(geo contain proplocation) then get suburb\n",
    "    try:\n",
    "        suburb = subclean.loc[subclean['geometry'].contains(proplocation), 'suburb'].values[0] \n",
    "    except:\n",
    "        suburb = \"NA\"\n",
    "    \n",
    "    return suburb"
   ]
  },
  {
   "cell_type": "code",
   "execution_count": 27,
   "id": "70a9429c",
   "metadata": {},
   "outputs": [
    {
     "data": {
      "text/html": [
       "<div>\n",
       "<style scoped>\n",
       "    .dataframe tbody tr th:only-of-type {\n",
       "        vertical-align: middle;\n",
       "    }\n",
       "\n",
       "    .dataframe tbody tr th {\n",
       "        vertical-align: top;\n",
       "    }\n",
       "\n",
       "    .dataframe thead th {\n",
       "        text-align: right;\n",
       "    }\n",
       "</style>\n",
       "<table border=\"1\" class=\"dataframe\">\n",
       "  <thead>\n",
       "    <tr style=\"text-align: right;\">\n",
       "      <th></th>\n",
       "      <th>property_id</th>\n",
       "      <th>lat</th>\n",
       "      <th>lng</th>\n",
       "      <th>addr_street</th>\n",
       "      <th>suburb</th>\n",
       "    </tr>\n",
       "  </thead>\n",
       "  <tbody>\n",
       "    <tr>\n",
       "      <th>0</th>\n",
       "      <td>53857</td>\n",
       "      <td>-37.830341</td>\n",
       "      <td>144.994781</td>\n",
       "      <td>86 Balmain Street</td>\n",
       "      <td>CREMORNE</td>\n",
       "    </tr>\n",
       "    <tr>\n",
       "      <th>1</th>\n",
       "      <td>68409</td>\n",
       "      <td>-37.856339</td>\n",
       "      <td>145.022407</td>\n",
       "      <td>25 Clarendon Street</td>\n",
       "      <td>ARMADALE</td>\n",
       "    </tr>\n",
       "  </tbody>\n",
       "</table>\n",
       "</div>"
      ],
      "text/plain": [
       "   property_id        lat         lng          addr_street    suburb\n",
       "0        53857 -37.830341  144.994781    86 Balmain Street  CREMORNE\n",
       "1        68409 -37.856339  145.022407  25 Clarendon Street  ARMADALE"
      ]
     },
     "execution_count": 27,
     "metadata": {},
     "output_type": "execute_result"
    }
   ],
   "source": [
    "unique_property['suburb'] = unique_property.apply(lambda x: findsuburbname(x['lng'],x['lat']), axis =1)\n",
    "unique_property.head(2)"
   ]
  },
  {
   "cell_type": "code",
   "execution_count": 28,
   "id": "7e6f2642",
   "metadata": {},
   "outputs": [
    {
     "data": {
      "text/plain": [
       "(2012, 5)"
      ]
     },
     "execution_count": 28,
     "metadata": {},
     "output_type": "execute_result"
    }
   ],
   "source": [
    "unique_property.shape # recheck"
   ]
  },
  {
   "cell_type": "markdown",
   "id": "ac165806",
   "metadata": {},
   "source": [
    "# Fill LGA"
   ]
  },
  {
   "cell_type": "markdown",
   "id": "611cf25c",
   "metadata": {},
   "source": [
    "## Extract LGA from pdf"
   ]
  },
  {
   "cell_type": "code",
   "execution_count": 29,
   "id": "db093a99",
   "metadata": {},
   "outputs": [
    {
     "data": {
      "text/plain": [
       "\"BANYULE : ['Abbotsford', 'Airport West', 'Albert Park', 'Alphington'] \\n\\nBRIMBANK : ['Altona', 'Altona North', 'Armadale', 'Ascot Vale'] \\n\\nDAREBIN : ['Ashburton', 'Ashwood', 'Avondale Heights', 'Balacl\""
      ]
     },
     "execution_count": 29,
     "metadata": {},
     "output_type": "execute_result"
    }
   ],
   "source": [
    "from pdfminer.high_level import extract_text # for extract pdf text from pdfminer.six\n",
    "\n",
    "lga_path = \"supplementary_data/Lga_to_suburb.pdf\"\n",
    "lga = extract_text(lga_path)\n",
    "lga[:200]"
   ]
  },
  {
   "cell_type": "markdown",
   "id": "d8bc031a",
   "metadata": {},
   "source": [
    "Extract each LGA and its suburbs with RegEX"
   ]
  },
  {
   "cell_type": "code",
   "execution_count": 30,
   "id": "0bc99909",
   "metadata": {},
   "outputs": [],
   "source": [
    "import re # for regex\n",
    "lgasub_patt =r'[A-Z ]+ ?: ?\\[[^\\]]+\\]'  # From first character to closing bracket"
   ]
  },
  {
   "cell_type": "code",
   "execution_count": 31,
   "id": "bcb9f078",
   "metadata": {},
   "outputs": [
    {
     "data": {
      "text/plain": [
       "[\"BANYULE : ['Abbotsford', 'Airport West', 'Albert Park', 'Alphington']\",\n",
       " \"BRIMBANK : ['Altona', 'Altona North', 'Armadale', 'Ascot Vale']\",\n",
       " \"DAREBIN : ['Ashburton', 'Ashwood', 'Avondale Heights', 'Balaclava']\"]"
      ]
     },
     "execution_count": 31,
     "metadata": {},
     "output_type": "execute_result"
    }
   ],
   "source": [
    "lgaandsub = re.findall(lgasub_patt, lga) \n",
    "lgaandsub[0:3]"
   ]
  },
  {
   "cell_type": "markdown",
   "id": "0b61d602",
   "metadata": {},
   "source": [
    "The information is in string - convert to dict to work with easier"
   ]
  },
  {
   "cell_type": "code",
   "execution_count": 32,
   "id": "4c611eae",
   "metadata": {},
   "outputs": [],
   "source": [
    "import ast # for convert to appropriate type\n",
    "\n",
    "def stringtodict(lgasub):\n",
    "\n",
    "    '''\n",
    "    To convert string of LGA and subs to dict, identify key and  value \n",
    "    as the string is not in actual form of dict (no prenthesis) or list (has colon)\n",
    "    '''\n",
    "    k,v = lgasub.split(\":\",1) \n",
    "    key = k.strip()\n",
    "    value = ast.literal_eval(v.strip())\n",
    "\n",
    "    return {key:value}"
   ]
  },
  {
   "cell_type": "code",
   "execution_count": 33,
   "id": "5039bc38",
   "metadata": {},
   "outputs": [
    {
     "data": {
      "text/plain": [
       "['Abbotsford', 'Airport West', 'Albert Park', 'Alphington']"
      ]
     },
     "execution_count": 33,
     "metadata": {},
     "output_type": "execute_result"
    }
   ],
   "source": [
    "lga_sub = {key:value for x in lgaandsub for key,value in stringtodict(x).items()}\n",
    "lga_sub[\"BANYULE\"]"
   ]
  },
  {
   "cell_type": "code",
   "execution_count": 34,
   "id": "ef04cfc9",
   "metadata": {},
   "outputs": [],
   "source": [
    "def findlga(suburb):\n",
    "    \"\"\"\n",
    "    if suburb is match, return lga\n",
    "    \"\"\"\n",
    "    for k,v in lga_sub.items(): # in each set of suburbs of LGA\n",
    "        for i in v: # in each suburb in the LGA\n",
    "            if suburb == i.upper(): # if suburb matched with suburb in the set\n",
    "                 return k.upper() # lga is k\n",
    "    return \"NA\""
   ]
  },
  {
   "cell_type": "code",
   "execution_count": 35,
   "id": "d6972376",
   "metadata": {},
   "outputs": [
    {
     "data": {
      "text/plain": [
       "'BRIMBANK'"
      ]
     },
     "execution_count": 35,
     "metadata": {},
     "output_type": "execute_result"
    }
   ],
   "source": [
    "findlga('ARMADALE') # test"
   ]
  },
  {
   "cell_type": "code",
   "execution_count": 36,
   "id": "1ef59a29",
   "metadata": {},
   "outputs": [
    {
     "data": {
      "text/html": [
       "<div>\n",
       "<style scoped>\n",
       "    .dataframe tbody tr th:only-of-type {\n",
       "        vertical-align: middle;\n",
       "    }\n",
       "\n",
       "    .dataframe tbody tr th {\n",
       "        vertical-align: top;\n",
       "    }\n",
       "\n",
       "    .dataframe thead th {\n",
       "        text-align: right;\n",
       "    }\n",
       "</style>\n",
       "<table border=\"1\" class=\"dataframe\">\n",
       "  <thead>\n",
       "    <tr style=\"text-align: right;\">\n",
       "      <th></th>\n",
       "      <th>property_id</th>\n",
       "      <th>lat</th>\n",
       "      <th>lng</th>\n",
       "      <th>addr_street</th>\n",
       "      <th>suburb</th>\n",
       "      <th>LGA</th>\n",
       "    </tr>\n",
       "  </thead>\n",
       "  <tbody>\n",
       "    <tr>\n",
       "      <th>0</th>\n",
       "      <td>53857</td>\n",
       "      <td>-37.830341</td>\n",
       "      <td>144.994781</td>\n",
       "      <td>86 Balmain Street</td>\n",
       "      <td>CREMORNE</td>\n",
       "      <td>WELLINGTON</td>\n",
       "    </tr>\n",
       "    <tr>\n",
       "      <th>1</th>\n",
       "      <td>68409</td>\n",
       "      <td>-37.856339</td>\n",
       "      <td>145.022407</td>\n",
       "      <td>25 Clarendon Street</td>\n",
       "      <td>ARMADALE</td>\n",
       "      <td>BRIMBANK</td>\n",
       "    </tr>\n",
       "  </tbody>\n",
       "</table>\n",
       "</div>"
      ],
      "text/plain": [
       "   property_id        lat         lng          addr_street    suburb  \\\n",
       "0        53857 -37.830341  144.994781    86 Balmain Street  CREMORNE   \n",
       "1        68409 -37.856339  145.022407  25 Clarendon Street  ARMADALE   \n",
       "\n",
       "          LGA  \n",
       "0  WELLINGTON  \n",
       "1    BRIMBANK  "
      ]
     },
     "execution_count": 36,
     "metadata": {},
     "output_type": "execute_result"
    }
   ],
   "source": [
    "unique_property['LGA'] = unique_property['suburb'].apply(findlga)\n",
    "unique_property.head(2)"
   ]
  },
  {
   "cell_type": "markdown",
   "id": "7b616445",
   "metadata": {},
   "source": [
    "# Find closest station"
   ]
  },
  {
   "cell_type": "code",
   "execution_count": 37,
   "id": "316b095f",
   "metadata": {},
   "outputs": [
    {
     "data": {
      "text/plain": [
       "['\\ufeffstop_id,stop_name,stop_short_name,stop_lat,stop_lon\\n',\n",
       " '\"15351\",\"Sunbury Railway Station\",\"Sunbury\",\"-37.5790909705787\",\"144.727318781329\"\\n',\n",
       " '\"15353\",\"Diggers Rest Railway Station\",\"Diggers Rest\",\"-37.6270165149357\",\"144.719922441113\"\\n']"
      ]
     },
     "execution_count": 37,
     "metadata": {},
     "output_type": "execute_result"
    }
   ],
   "source": [
    "stoppath = \"supplementary_data/Vic_GTFS_data/metropolitan/stops.txt\"\n",
    "with open(stoppath,\"r\") as stops:\n",
    "    s = stops.readlines()\n",
    "\n",
    "s[0:3]"
   ]
  },
  {
   "cell_type": "code",
   "execution_count": 38,
   "id": "74f508c0",
   "metadata": {},
   "outputs": [
    {
     "data": {
      "text/plain": [
       "['\"15351\",\"Sunbury Railway Station\",\"Sunbury\",\"-37.5790909705787\",\"144.727318781329\"\\n',\n",
       " '\"15353\",\"Diggers Rest Railway Station\",\"Diggers Rest\",\"-37.6270165149357\",\"144.719922441113\"\\n',\n",
       " '\"19827\",\"Stony Point Railway Station\",\"Crib Point\",\"-38.3742345364937\",\"145.221837462187\"\\n']"
      ]
     },
     "execution_count": 38,
     "metadata": {},
     "output_type": "execute_result"
    }
   ],
   "source": [
    "allstop = s[1:] # remove header\n",
    "allstop[0:3]"
   ]
  },
  {
   "cell_type": "markdown",
   "id": "d8d2125e",
   "metadata": {},
   "source": [
    "## Clean station file"
   ]
  },
  {
   "cell_type": "code",
   "execution_count": 39,
   "id": "629fd045",
   "metadata": {},
   "outputs": [
    {
     "data": {
      "text/plain": [
       "'\"15351\",\"Sunbury Railway Station\",\"Sunbury\",\"-37.5790909705787\",\"144.727318781329\"'"
      ]
     },
     "execution_count": 39,
     "metadata": {},
     "output_type": "execute_result"
    }
   ],
   "source": [
    "allstop_clean = [x.replace(\"\\n\",'') for x in allstop] # remove newling symbol\n",
    "allstop_clean[0]"
   ]
  },
  {
   "cell_type": "code",
   "execution_count": 40,
   "id": "b907bbb0",
   "metadata": {},
   "outputs": [
    {
     "data": {
      "text/plain": [
       "[['15351',\n",
       "  'Sunbury Railway Station',\n",
       "  'Sunbury',\n",
       "  '-37.5790909705787',\n",
       "  '144.727318781329'],\n",
       " ['15353',\n",
       "  'Diggers Rest Railway Station',\n",
       "  'Diggers Rest',\n",
       "  '-37.6270165149357',\n",
       "  '144.719922441113']]"
      ]
     },
     "execution_count": 40,
     "metadata": {},
     "output_type": "execute_result"
    }
   ],
   "source": [
    "# make each value convert to suitable data type and contain in a list\n",
    "stopsub = [list(ast.literal_eval(x)) for x in allstop_clean]\n",
    "stopsub[0:2]"
   ]
  },
  {
   "cell_type": "code",
   "execution_count": 41,
   "id": "d4810c26",
   "metadata": {},
   "outputs": [],
   "source": [
    "# create nested for easier access\n",
    "stops_dict = {int(i[0]): {'station_name': i[1], \n",
    "                     'suburb': i[2], \n",
    "                     'lat': float(i[3]), \n",
    "                     'lng': float(i[4])} for i in stopsub}"
   ]
  },
  {
   "cell_type": "code",
   "execution_count": 42,
   "id": "57d5c793",
   "metadata": {},
   "outputs": [
    {
     "data": {
      "text/plain": [
       "{'station_name': 'Sunbury Railway Station',\n",
       " 'suburb': 'Sunbury',\n",
       " 'lat': -37.5790909705787,\n",
       " 'lng': 144.727318781329}"
      ]
     },
     "execution_count": 42,
     "metadata": {},
     "output_type": "execute_result"
    }
   ],
   "source": [
    "stops_dict[15351] # test"
   ]
  },
  {
   "cell_type": "markdown",
   "id": "7885ee33",
   "metadata": {},
   "source": [
    "## Finding closest station to each property using Geopy"
   ]
  },
  {
   "cell_type": "markdown",
   "id": "32912ad1",
   "metadata": {},
   "source": [
    "### Calculate distance from property to station"
   ]
  },
  {
   "cell_type": "code",
   "execution_count": 43,
   "id": "e8ce1eb0",
   "metadata": {},
   "outputs": [],
   "source": [
    "import geopy.distance\n",
    "\n",
    "def caldistance(plat,plng,slat,slng):\n",
    "    '''\n",
    "     Calculate distance by using property's latitude, longitude \n",
    "    and station's latitude, longitude using geopy.\n",
    "\n",
    "    ref: https://stackoverflow.com/questions/19412462/getting-distance-between-two-points-based-on-latitude-longitude\n",
    "    '''\n",
    "\n",
    "    coords_1 = (plat, plng)\n",
    "    coords_2 = (slat, slng)\n",
    "\n",
    "    return geopy.distance.geodesic(coords_1, coords_2).km"
   ]
  },
  {
   "cell_type": "code",
   "execution_count": 44,
   "id": "4a811a23",
   "metadata": {},
   "outputs": [],
   "source": [
    "def shotestdistance(plat,plng):\n",
    "    \"\"\"\n",
    "    finding the shortest distance from property to station\n",
    "    to get the closest station info\n",
    "    \"\"\"\n",
    "    currdis = [] # initiate current distance\n",
    "    for k,v in stops_dict.items(): # each station in the stopdict\n",
    "        slat = v['lat']\n",
    "        slng = v['lng']\n",
    "        \n",
    "        distance = caldistance(plat,plng,slat,slng) # calculate distance\n",
    "\n",
    "        if len(currdis) == 0: # for the first stop \n",
    "            currdis.append(distance) # add distance\n",
    "            station_id = k\n",
    "            station_distance = round(currdis[0],2)\n",
    "\n",
    "        elif len(currdis) > 0: # for other stops\n",
    "            if distance < currdis[0]: # if distance less than previous shortest distance\n",
    "                currdis[0] = distance # replace the distance in currdis\n",
    "                station_id = k\n",
    "                station_distance = round(currdis[0],2)\n",
    "                \n",
    "            else: # if distance is greater, skip it\n",
    "                pass\n",
    "        \n",
    "    return station_id,station_distance"
   ]
  },
  {
   "cell_type": "code",
   "execution_count": 45,
   "id": "ae76353e",
   "metadata": {},
   "outputs": [
    {
     "data": {
      "text/html": [
       "<div>\n",
       "<style scoped>\n",
       "    .dataframe tbody tr th:only-of-type {\n",
       "        vertical-align: middle;\n",
       "    }\n",
       "\n",
       "    .dataframe tbody tr th {\n",
       "        vertical-align: top;\n",
       "    }\n",
       "\n",
       "    .dataframe thead th {\n",
       "        text-align: right;\n",
       "    }\n",
       "</style>\n",
       "<table border=\"1\" class=\"dataframe\">\n",
       "  <thead>\n",
       "    <tr style=\"text-align: right;\">\n",
       "      <th></th>\n",
       "      <th>property_id</th>\n",
       "      <th>lat</th>\n",
       "      <th>lng</th>\n",
       "      <th>addr_street</th>\n",
       "      <th>suburb</th>\n",
       "      <th>LGA</th>\n",
       "    </tr>\n",
       "  </thead>\n",
       "  <tbody>\n",
       "    <tr>\n",
       "      <th>0</th>\n",
       "      <td>53857</td>\n",
       "      <td>-37.830341</td>\n",
       "      <td>144.994781</td>\n",
       "      <td>86 Balmain Street</td>\n",
       "      <td>CREMORNE</td>\n",
       "      <td>WELLINGTON</td>\n",
       "    </tr>\n",
       "    <tr>\n",
       "      <th>1</th>\n",
       "      <td>68409</td>\n",
       "      <td>-37.856339</td>\n",
       "      <td>145.022407</td>\n",
       "      <td>25 Clarendon Street</td>\n",
       "      <td>ARMADALE</td>\n",
       "      <td>BRIMBANK</td>\n",
       "    </tr>\n",
       "  </tbody>\n",
       "</table>\n",
       "</div>"
      ],
      "text/plain": [
       "   property_id        lat         lng          addr_street    suburb  \\\n",
       "0        53857 -37.830341  144.994781    86 Balmain Street  CREMORNE   \n",
       "1        68409 -37.856339  145.022407  25 Clarendon Street  ARMADALE   \n",
       "\n",
       "          LGA  \n",
       "0  WELLINGTON  \n",
       "1    BRIMBANK  "
      ]
     },
     "execution_count": 45,
     "metadata": {},
     "output_type": "execute_result"
    }
   ],
   "source": [
    "unique_property.head(2)"
   ]
  },
  {
   "cell_type": "code",
   "execution_count": 46,
   "id": "8fe61753",
   "metadata": {},
   "outputs": [
    {
     "data": {
      "text/plain": [
       "(19907, 0.48)"
      ]
     },
     "execution_count": 46,
     "metadata": {},
     "output_type": "execute_result"
    }
   ],
   "source": [
    "shotestdistance(-37.830341,144.994781) # test1"
   ]
  },
  {
   "cell_type": "code",
   "execution_count": 47,
   "id": "4511bdc9",
   "metadata": {},
   "outputs": [
    {
     "data": {
      "text/plain": [
       "(19994, 1.3)"
      ]
     },
     "execution_count": 47,
     "metadata": {},
     "output_type": "execute_result"
    }
   ],
   "source": [
    "shotestdistance(-37.848385,144.870640) # test2"
   ]
  },
  {
   "cell_type": "markdown",
   "id": "6b50bfc4",
   "metadata": {},
   "source": [
    "### Apply function to get station id"
   ]
  },
  {
   "cell_type": "code",
   "execution_count": 48,
   "id": "36712856",
   "metadata": {},
   "outputs": [],
   "source": [
    "unique_property[['station_id','station_distance']] = unique_property.apply(lambda x: shotestdistance(x['lat'],x['lng']),\n",
    "                                                                           axis = 1,\n",
    "                                                                           result_type='expand')"
   ]
  },
  {
   "cell_type": "code",
   "execution_count": 49,
   "id": "5c46a2b7",
   "metadata": {},
   "outputs": [
    {
     "data": {
      "text/html": [
       "<div>\n",
       "<style scoped>\n",
       "    .dataframe tbody tr th:only-of-type {\n",
       "        vertical-align: middle;\n",
       "    }\n",
       "\n",
       "    .dataframe tbody tr th {\n",
       "        vertical-align: top;\n",
       "    }\n",
       "\n",
       "    .dataframe thead th {\n",
       "        text-align: right;\n",
       "    }\n",
       "</style>\n",
       "<table border=\"1\" class=\"dataframe\">\n",
       "  <thead>\n",
       "    <tr style=\"text-align: right;\">\n",
       "      <th></th>\n",
       "      <th>property_id</th>\n",
       "      <th>lat</th>\n",
       "      <th>lng</th>\n",
       "      <th>addr_street</th>\n",
       "      <th>suburb</th>\n",
       "      <th>LGA</th>\n",
       "      <th>station_id</th>\n",
       "      <th>station_distance</th>\n",
       "    </tr>\n",
       "  </thead>\n",
       "  <tbody>\n",
       "    <tr>\n",
       "      <th>0</th>\n",
       "      <td>53857</td>\n",
       "      <td>-37.830341</td>\n",
       "      <td>144.994781</td>\n",
       "      <td>86 Balmain Street</td>\n",
       "      <td>CREMORNE</td>\n",
       "      <td>WELLINGTON</td>\n",
       "      <td>19907.0</td>\n",
       "      <td>0.48</td>\n",
       "    </tr>\n",
       "    <tr>\n",
       "      <th>1</th>\n",
       "      <td>68409</td>\n",
       "      <td>-37.856339</td>\n",
       "      <td>145.022407</td>\n",
       "      <td>25 Clarendon Street</td>\n",
       "      <td>ARMADALE</td>\n",
       "      <td>BRIMBANK</td>\n",
       "      <td>19945.0</td>\n",
       "      <td>0.27</td>\n",
       "    </tr>\n",
       "    <tr>\n",
       "      <th>2</th>\n",
       "      <td>4719</td>\n",
       "      <td>-37.848385</td>\n",
       "      <td>144.870640</td>\n",
       "      <td>8A Berty Street</td>\n",
       "      <td>NEWPORT</td>\n",
       "      <td>MANSFIELD</td>\n",
       "      <td>19994.0</td>\n",
       "      <td>1.30</td>\n",
       "    </tr>\n",
       "    <tr>\n",
       "      <th>3</th>\n",
       "      <td>59357</td>\n",
       "      <td>-37.808037</td>\n",
       "      <td>145.185867</td>\n",
       "      <td>12 Mountfield Road</td>\n",
       "      <td>MITCHAM</td>\n",
       "      <td>PORT PHILLIP</td>\n",
       "      <td>19900.0</td>\n",
       "      <td>1.23</td>\n",
       "    </tr>\n",
       "    <tr>\n",
       "      <th>4</th>\n",
       "      <td>92720</td>\n",
       "      <td>-38.007039</td>\n",
       "      <td>145.084811</td>\n",
       "      <td>14 Montgomery Street</td>\n",
       "      <td>MORDIALLOC</td>\n",
       "      <td>PORT PHILLIP</td>\n",
       "      <td>19863.0</td>\n",
       "      <td>0.26</td>\n",
       "    </tr>\n",
       "    <tr>\n",
       "      <th>5</th>\n",
       "      <td>65607</td>\n",
       "      <td>-37.779045</td>\n",
       "      <td>145.314018</td>\n",
       "      <td>10 Anaba Court</td>\n",
       "      <td>MOOROOLBARK</td>\n",
       "      <td>WEST WIMMERA</td>\n",
       "      <td>19877.0</td>\n",
       "      <td>0.65</td>\n",
       "    </tr>\n",
       "    <tr>\n",
       "      <th>6</th>\n",
       "      <td>37388</td>\n",
       "      <td>-37.642063</td>\n",
       "      <td>145.034897</td>\n",
       "      <td>4 Bristol Court</td>\n",
       "      <td>EPPING</td>\n",
       "      <td>FRANKSTON</td>\n",
       "      <td>20005.0</td>\n",
       "      <td>1.22</td>\n",
       "    </tr>\n",
       "    <tr>\n",
       "      <th>7</th>\n",
       "      <td>79301</td>\n",
       "      <td>-37.954121</td>\n",
       "      <td>145.143189</td>\n",
       "      <td>67 Regent Ave</td>\n",
       "      <td>SPRINGVALE</td>\n",
       "      <td>GREATER BENDIGO</td>\n",
       "      <td>19913.0</td>\n",
       "      <td>1.04</td>\n",
       "    </tr>\n",
       "    <tr>\n",
       "      <th>8</th>\n",
       "      <td>65279</td>\n",
       "      <td>-37.807124</td>\n",
       "      <td>145.302976</td>\n",
       "      <td>29 Landstrom Quadrant</td>\n",
       "      <td>KILSYTH</td>\n",
       "      <td>SURF COAST</td>\n",
       "      <td>19878.0</td>\n",
       "      <td>2.36</td>\n",
       "    </tr>\n",
       "    <tr>\n",
       "      <th>9</th>\n",
       "      <td>12665</td>\n",
       "      <td>-37.717783</td>\n",
       "      <td>144.768230</td>\n",
       "      <td>21 Cottrell Court</td>\n",
       "      <td>DELAHEY</td>\n",
       "      <td>BULOKE</td>\n",
       "      <td>20000.0</td>\n",
       "      <td>1.92</td>\n",
       "    </tr>\n",
       "  </tbody>\n",
       "</table>\n",
       "</div>"
      ],
      "text/plain": [
       "   property_id        lat         lng            addr_street       suburb  \\\n",
       "0        53857 -37.830341  144.994781      86 Balmain Street     CREMORNE   \n",
       "1        68409 -37.856339  145.022407    25 Clarendon Street     ARMADALE   \n",
       "2         4719 -37.848385  144.870640        8A Berty Street      NEWPORT   \n",
       "3        59357 -37.808037  145.185867     12 Mountfield Road      MITCHAM   \n",
       "4        92720 -38.007039  145.084811   14 Montgomery Street   MORDIALLOC   \n",
       "5        65607 -37.779045  145.314018         10 Anaba Court  MOOROOLBARK   \n",
       "6        37388 -37.642063  145.034897        4 Bristol Court       EPPING   \n",
       "7        79301 -37.954121  145.143189          67 Regent Ave   SPRINGVALE   \n",
       "8        65279 -37.807124  145.302976  29 Landstrom Quadrant      KILSYTH   \n",
       "9        12665 -37.717783  144.768230      21 Cottrell Court      DELAHEY   \n",
       "\n",
       "               LGA  station_id  station_distance  \n",
       "0       WELLINGTON     19907.0              0.48  \n",
       "1         BRIMBANK     19945.0              0.27  \n",
       "2        MANSFIELD     19994.0              1.30  \n",
       "3     PORT PHILLIP     19900.0              1.23  \n",
       "4     PORT PHILLIP     19863.0              0.26  \n",
       "5     WEST WIMMERA     19877.0              0.65  \n",
       "6        FRANKSTON     20005.0              1.22  \n",
       "7  GREATER BENDIGO     19913.0              1.04  \n",
       "8       SURF COAST     19878.0              2.36  \n",
       "9           BULOKE     20000.0              1.92  "
      ]
     },
     "execution_count": 49,
     "metadata": {},
     "output_type": "execute_result"
    }
   ],
   "source": [
    "unique_property[0:10]\n"
   ]
  },
  {
   "cell_type": "markdown",
   "id": "676ded9d",
   "metadata": {},
   "source": [
    "# Find Travel Time"
   ]
  },
  {
   "cell_type": "code",
   "execution_count": 50,
   "id": "15f98eed",
   "metadata": {},
   "outputs": [
    {
     "data": {
      "text/plain": [
       "['\\ufeffservice_id,monday,tuesday,wednesday,thursday,friday,saturday,sunday,start_date,end_date\\n',\n",
       " '\"T2\",\"0\",\"0\",\"0\",\"0\",\"0\",\"1\",\"0\",\"20151009\",\"20151011\"\\n',\n",
       " '\"UJ\",\"0\",\"0\",\"0\",\"0\",\"0\",\"0\",\"1\",\"20151009\",\"20151011\"\\n']"
      ]
     },
     "execution_count": 50,
     "metadata": {},
     "output_type": "execute_result"
    }
   ],
   "source": [
    "calendarpath = \"supplementary_data/Vic_GTFS_data/metropolitan/calendar.txt\"\n",
    "with open(calendarpath, 'r') as c:\n",
    "    calendar = c.readlines()\n",
    "calendar[0:3]"
   ]
  },
  {
   "cell_type": "code",
   "execution_count": 51,
   "id": "95b27041",
   "metadata": {},
   "outputs": [
    {
     "data": {
      "text/plain": [
       "['\"T2\",\"0\",\"0\",\"0\",\"0\",\"0\",\"1\",\"0\",\"20151009\",\"20151011\"',\n",
       " '\"UJ\",\"0\",\"0\",\"0\",\"0\",\"0\",\"0\",\"1\",\"20151009\",\"20151011\"',\n",
       " '\"T6\",\"0\",\"0\",\"0\",\"0\",\"1\",\"0\",\"0\",\"20151009\",\"20151011\"']"
      ]
     },
     "execution_count": 51,
     "metadata": {},
     "output_type": "execute_result"
    }
   ],
   "source": [
    "# remove header and new line \\n\n",
    "calendar_clean = calendar[1:]\n",
    "calendar_clean = [x.replace('\\n','') for x in calendar_clean]\n",
    "calendar_clean[0:3]"
   ]
  },
  {
   "cell_type": "code",
   "execution_count": 52,
   "id": "30135812",
   "metadata": {},
   "outputs": [
    {
     "data": {
      "text/plain": [
       "[['T2', '0', '0', '0', '0', '0', '1', '0', '20151009', '20151011'],\n",
       " ['UJ', '0', '0', '0', '0', '0', '0', '1', '20151009', '20151011'],\n",
       " ['T6', '0', '0', '0', '0', '1', '0', '0', '20151009', '20151011']]"
      ]
     },
     "execution_count": 52,
     "metadata": {},
     "output_type": "execute_result"
    }
   ],
   "source": [
    "# make it proper data type\n",
    "calendar_clean = [list(ast.literal_eval(x)) for x in calendar_clean]\n",
    "calendar_clean[0:3]"
   ]
  },
  {
   "cell_type": "markdown",
   "id": "d3c12f2e",
   "metadata": {},
   "source": [
    "### Find service_code of train that running on any week day which is index 1 to 5 (inclusive)"
   ]
  },
  {
   "cell_type": "code",
   "execution_count": 62,
   "id": "b2fa6e00",
   "metadata": {},
   "outputs": [
    {
     "data": {
      "text/plain": [
       "['T6',\n",
       " 'T5',\n",
       " 'T6_1',\n",
       " 'T5_1',\n",
       " 'T0',\n",
       " 'T0+a6',\n",
       " 'T0+a5',\n",
       " 'T5+tg',\n",
       " 'T5+ph',\n",
       " 'T5+tg_1',\n",
       " 'T5+ph_1',\n",
       " 'T5+ao',\n",
       " 'T5+ta']"
      ]
     },
     "execution_count": 62,
     "metadata": {},
     "output_type": "execute_result"
    }
   ],
   "source": [
    "runonweekday = [x[0] for x in calendar_clean if '1' in x[1:6]]\n",
    "runonweekday"
   ]
  },
  {
   "cell_type": "markdown",
   "id": "28105413",
   "metadata": {},
   "source": [
    "### Look at the stop time file to see if the train direct to Melbourne Central during 7 - 9 am"
   ]
  },
  {
   "cell_type": "code",
   "execution_count": 63,
   "id": "1645f7bd",
   "metadata": {},
   "outputs": [
    {
     "data": {
      "text/plain": [
       "['\\ufefftrip_id,arrival_time,departure_time,stop_id,stop_sequence,stop_headsign,pickup_type,drop_off_type,shape_dist_traveled\\n',\n",
       " '\"17182517.T2.2-ALM-B-mjp-1.1.H\",\"04:57:00\",\"04:57:00\",\"19847\",\"1\",\"\",\"0\",\"0\",\"0\"\\n',\n",
       " '\"17182517.T2.2-ALM-B-mjp-1.1.H\",\"04:58:00\",\"04:58:00\",\"19848\",\"2\",\"\",\"0\",\"0\",\"723.017818057993\"\\n']"
      ]
     },
     "execution_count": 63,
     "metadata": {},
     "output_type": "execute_result"
    }
   ],
   "source": [
    "stoptime_path = \"supplementary_data/Vic_GTFS_data/metropolitan/stop_times.txt\"\n",
    "with open(stoptime_path, 'r') as s:\n",
    "    sttimes = s.readlines()\n",
    "\n",
    "sttimes[0:3]"
   ]
  },
  {
   "cell_type": "code",
   "execution_count": 64,
   "id": "160915a7",
   "metadata": {},
   "outputs": [
    {
     "data": {
      "text/plain": [
       "390306"
      ]
     },
     "execution_count": 64,
     "metadata": {},
     "output_type": "execute_result"
    }
   ],
   "source": [
    "len(sttimes)"
   ]
  },
  {
   "cell_type": "code",
   "execution_count": 65,
   "id": "55cd1b77",
   "metadata": {},
   "outputs": [
    {
     "data": {
      "text/plain": [
       "['\"17182517.T2.2-ALM-B-mjp-1.1.H\",\"04:57:00\",\"04:57:00\",\"19847\",\"1\",\"\",\"0\",\"0\",\"0\"',\n",
       " '\"17182517.T2.2-ALM-B-mjp-1.1.H\",\"04:58:00\",\"04:58:00\",\"19848\",\"2\",\"\",\"0\",\"0\",\"723.017818057993\"',\n",
       " '\"17182517.T2.2-ALM-B-mjp-1.1.H\",\"05:00:00\",\"05:00:00\",\"19849\",\"3\",\"\",\"0\",\"0\",\"1951.73507163902\"']"
      ]
     },
     "execution_count": 65,
     "metadata": {},
     "output_type": "execute_result"
    }
   ],
   "source": [
    "# remove header and new line \\n\n",
    "sttimes_clean = sttimes[1:]\n",
    "sttimes_clean = [x.replace('\\n','') for x in sttimes_clean]\n",
    "sttimes_clean[0:3]"
   ]
  }
 ],
 "metadata": {
  "kernelspec": {
   "display_name": "base",
   "language": "python",
   "name": "python3"
  },
  "language_info": {
   "codemirror_mode": {
    "name": "ipython",
    "version": 3
   },
   "file_extension": ".py",
   "mimetype": "text/x-python",
   "name": "python",
   "nbconvert_exporter": "python",
   "pygments_lexer": "ipython3",
   "version": "3.9.13"
  }
 },
 "nbformat": 4,
 "nbformat_minor": 5
}
